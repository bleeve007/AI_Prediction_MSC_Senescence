{
 "cells": [
  {
   "cell_type": "code",
   "execution_count": 84,
   "id": "3af729b6",
   "metadata": {},
   "outputs": [],
   "source": [
    "import numpy as np\n",
    "from sklearn.datasets import load_digits\n",
    "from sklearn.preprocessing import StandardScaler\n",
    "from sklearn.model_selection import train_test_split\n",
    "from sklearn.preprocessing import StandardScaler\n",
    "from sklearn.discriminant_analysis import LinearDiscriminantAnalysis as LDA\n",
    "from sklearn.decomposition import PCA\n",
    "from bioinfokit.analys import get_data\n",
    "from bioinfokit.visuz import cluster\n",
    "import matplotlib.pyplot as plt\n",
    "from matplotlib.pyplot import figure\n",
    "import seaborn as sns\n",
    "import pandas as pd\n",
    "import time\n",
    "%matplotlib inline"
   ]
  },
  {
   "cell_type": "code",
   "execution_count": 85,
   "id": "0f2e8e97",
   "metadata": {},
   "outputs": [],
   "source": [
    "sns.set(style='white', rc={'figure.figsize':(100,30)})\n",
    "\n",
    "font = {'family' : 'sans-serif',\n",
    "        'weight' : 'normal',\n",
    "        'size'   : 30}\n",
    "plt.rc('font', **font)\n",
    "\n",
    "sns.set(font_scale=1)"
   ]
  },
  {
   "cell_type": "code",
   "execution_count": 86,
   "id": "437434b5",
   "metadata": {
    "scrolled": true
   },
   "outputs": [
    {
     "data": {
      "text/html": [
       "<div>\n",
       "<style scoped>\n",
       "    .dataframe tbody tr th:only-of-type {\n",
       "        vertical-align: middle;\n",
       "    }\n",
       "\n",
       "    .dataframe tbody tr th {\n",
       "        vertical-align: top;\n",
       "    }\n",
       "\n",
       "    .dataframe thead th {\n",
       "        text-align: right;\n",
       "    }\n",
       "</style>\n",
       "<table border=\"1\" class=\"dataframe\">\n",
       "  <thead>\n",
       "    <tr style=\"text-align: right;\">\n",
       "      <th></th>\n",
       "      <th>Culture</th>\n",
       "      <th>SABG</th>\n",
       "      <th>CD44</th>\n",
       "    </tr>\n",
       "  </thead>\n",
       "  <tbody>\n",
       "    <tr>\n",
       "      <th>0</th>\n",
       "      <td>Irrad</td>\n",
       "      <td>22.155</td>\n",
       "      <td>21.292</td>\n",
       "    </tr>\n",
       "    <tr>\n",
       "      <th>1</th>\n",
       "      <td>Irrad</td>\n",
       "      <td>23.037</td>\n",
       "      <td>24.136</td>\n",
       "    </tr>\n",
       "    <tr>\n",
       "      <th>2</th>\n",
       "      <td>Irrad</td>\n",
       "      <td>24.898</td>\n",
       "      <td>28.648</td>\n",
       "    </tr>\n",
       "    <tr>\n",
       "      <th>3</th>\n",
       "      <td>Irrad</td>\n",
       "      <td>22.078</td>\n",
       "      <td>28.781</td>\n",
       "    </tr>\n",
       "    <tr>\n",
       "      <th>4</th>\n",
       "      <td>Irrad</td>\n",
       "      <td>22.755</td>\n",
       "      <td>22.009</td>\n",
       "    </tr>\n",
       "  </tbody>\n",
       "</table>\n",
       "</div>"
      ],
      "text/plain": [
       "  Culture    SABG    CD44\n",
       "0   Irrad  22.155  21.292\n",
       "1   Irrad  23.037  24.136\n",
       "2   Irrad  24.898  28.648\n",
       "3   Irrad  22.078  28.781\n",
       "4   Irrad  22.755  22.009"
      ]
     },
     "execution_count": 86,
     "metadata": {},
     "output_type": "execute_result"
    }
   ],
   "source": [
    "# Import Data\n",
    "control = pd.read_csv(r\"C:\\Users\\Brandon\\Desktop\\Work\\Lin_Lab\\MSC\\Data\\220701_MSC_irrad\\control.csv\")\n",
    "irrad = pd.read_csv(r\"C:\\Users\\Brandon\\Desktop\\Work\\Lin_Lab\\MSC\\Data\\220701_MSC_irrad\\irrad.csv\")\n",
    "\n",
    "control.head()\n",
    "irrad.head()"
   ]
  },
  {
   "cell_type": "code",
   "execution_count": 87,
   "id": "fd86a7e3",
   "metadata": {
    "scrolled": false
   },
   "outputs": [
    {
     "data": {
      "text/html": [
       "<div>\n",
       "<style scoped>\n",
       "    .dataframe tbody tr th:only-of-type {\n",
       "        vertical-align: middle;\n",
       "    }\n",
       "\n",
       "    .dataframe tbody tr th {\n",
       "        vertical-align: top;\n",
       "    }\n",
       "\n",
       "    .dataframe thead th {\n",
       "        text-align: right;\n",
       "    }\n",
       "</style>\n",
       "<table border=\"1\" class=\"dataframe\">\n",
       "  <thead>\n",
       "    <tr style=\"text-align: right;\">\n",
       "      <th></th>\n",
       "      <th>Culture</th>\n",
       "      <th>SABG</th>\n",
       "      <th>CD44</th>\n",
       "    </tr>\n",
       "  </thead>\n",
       "  <tbody>\n",
       "    <tr>\n",
       "      <th>0</th>\n",
       "      <td>Control</td>\n",
       "      <td>17.384</td>\n",
       "      <td>23.094</td>\n",
       "    </tr>\n",
       "    <tr>\n",
       "      <th>1</th>\n",
       "      <td>Control</td>\n",
       "      <td>17.275</td>\n",
       "      <td>20.020</td>\n",
       "    </tr>\n",
       "    <tr>\n",
       "      <th>2</th>\n",
       "      <td>Control</td>\n",
       "      <td>17.125</td>\n",
       "      <td>20.708</td>\n",
       "    </tr>\n",
       "    <tr>\n",
       "      <th>3</th>\n",
       "      <td>Control</td>\n",
       "      <td>17.245</td>\n",
       "      <td>19.139</td>\n",
       "    </tr>\n",
       "    <tr>\n",
       "      <th>4</th>\n",
       "      <td>Control</td>\n",
       "      <td>17.079</td>\n",
       "      <td>18.580</td>\n",
       "    </tr>\n",
       "  </tbody>\n",
       "</table>\n",
       "</div>"
      ],
      "text/plain": [
       "   Culture    SABG    CD44\n",
       "0  Control  17.384  23.094\n",
       "1  Control  17.275  20.020\n",
       "2  Control  17.125  20.708\n",
       "3  Control  17.245  19.139\n",
       "4  Control  17.079  18.580"
      ]
     },
     "execution_count": 87,
     "metadata": {},
     "output_type": "execute_result"
    }
   ],
   "source": [
    "# Concatenate Data\n",
    "culture_data = pd.concat([control, irrad], ignore_index=True)\n",
    "culture_data.head()\n",
    "\n",
    "# with pd.option_context('display.max_rows', None, 'display.max_columns', None):  # more options can be specified also\n",
    "#     print(data)"
   ]
  },
  {
   "cell_type": "code",
   "execution_count": 88,
   "id": "1c4e585e",
   "metadata": {
    "scrolled": true
   },
   "outputs": [
    {
     "data": {
      "image/png": "[encoded data removed]",
      "text/plain": [
       "<Figure size 435.35x360 with 6 Axes>"
      ]
     },
     "metadata": {},
     "output_type": "display_data"
    }
   ],
   "source": [
    "palette = {\"Control\":\"#0020ff\", \n",
    "           \"Irrad\":\"#8F00AA\"}\n",
    "\n",
    "sns.set_style(\"white\")\n",
    "sns.set_style(\"ticks\")\n",
    "\n",
    "g = sns.pairplot(culture_data, hue='Culture', palette=palette)\n",
    "\n",
    "g._legend.remove()"
   ]
  },
  {
   "cell_type": "code",
   "execution_count": 89,
   "id": "971304e7",
   "metadata": {
    "scrolled": true
   },
   "outputs": [],
   "source": [
    "import umap"
   ]
  },
  {
   "cell_type": "code",
   "execution_count": 90,
   "id": "41d19541",
   "metadata": {},
   "outputs": [],
   "source": [
    "reducer = umap.UMAP()"
   ]
  },
  {
   "cell_type": "code",
   "execution_count": 91,
   "id": "331aee1a",
   "metadata": {},
   "outputs": [
    {
     "data": {
      "text/plain": [
       "(60, 2)"
      ]
     },
     "execution_count": 91,
     "metadata": {},
     "output_type": "execute_result"
    }
   ],
   "source": [
    "marker_data = culture_data[[\"SABG\", \"CD44\"]].values\n",
    "embedding = reducer.fit_transform(marker_data)\n",
    "embedding.shape"
   ]
  },
  {
   "cell_type": "code",
   "execution_count": 92,
   "id": "d3fbe6eb",
   "metadata": {
    "scrolled": true
   },
   "outputs": [
    {
     "data": {
      "image/png": "[encoded data removed]",
      "text/plain": [
       "<Figure size 640x480 with 1 Axes>"
      ]
     },
     "metadata": {},
     "output_type": "display_data"
    }
   ],
   "source": [
    "figure(figsize=(8, 6), dpi=80)\n",
    "\n",
    "plt.scatter(embedding[:, 0], embedding[:, 1], c=[palette[x] for x in culture_data.Culture])\n",
    "                  \n",
    "# plt.xlabel(\"UMAP 1\")\n",
    "# plt.ylabel(\"UMAP 2\")\n",
    "plt.gca().set_aspect('equal', 'datalim')\n",
    "\n",
    "plt.savefig(fname=\"MSC_irrad_UMAP\")"
   ]
  },
  {
   "cell_type": "code",
   "execution_count": 93,
   "id": "56b33edd",
   "metadata": {},
   "outputs": [],
   "source": [
    "marker_LDA = LDA(n_components=1).fit_transform(marker_data,culture_data.Culture)"
   ]
  },
  {
   "cell_type": "code",
   "execution_count": 94,
   "id": "e1026f93",
   "metadata": {},
   "outputs": [
    {
     "ename": "IndexError",
     "evalue": "index 1 is out of bounds for axis 1 with size 1",
     "output_type": "error",
     "traceback": [
      "\u001b[1;31m---------------------------------------------------------------------------\u001b[0m",
      "\u001b[1;31mIndexError\u001b[0m                                Traceback (most recent call last)",
      "Input \u001b[1;32mIn [94]\u001b[0m, in \u001b[0;36m<cell line: 1>\u001b[1;34m()\u001b[0m\n\u001b[1;32m----> 1\u001b[0m plt\u001b[38;5;241m.\u001b[39mscatter(marker_LDA[:,\u001b[38;5;241m0\u001b[39m], \u001b[43mmarker_LDA\u001b[49m\u001b[43m[\u001b[49m\u001b[43m:\u001b[49m\u001b[43m,\u001b[49m\u001b[43m \u001b[49m\u001b[38;5;241;43m1\u001b[39;49m\u001b[43m]\u001b[49m, c\u001b[38;5;241m=\u001b[39m[palette[x] \u001b[38;5;28;01mfor\u001b[39;00m x \u001b[38;5;129;01min\u001b[39;00m culture_data\u001b[38;5;241m.\u001b[39mCulture])\n\u001b[0;32m      3\u001b[0m plt\u001b[38;5;241m.\u001b[39mxlabel(\u001b[38;5;124m\"\u001b[39m\u001b[38;5;124mLDA 1\u001b[39m\u001b[38;5;124m\"\u001b[39m)\n\u001b[0;32m      4\u001b[0m plt\u001b[38;5;241m.\u001b[39mylabel(\u001b[38;5;124m\"\u001b[39m\u001b[38;5;124mLDA 2\u001b[39m\u001b[38;5;124m\"\u001b[39m)\n",
      "\u001b[1;31mIndexError\u001b[0m: index 1 is out of bounds for axis 1 with size 1"
     ]
    }
   ],
   "source": [
    "plt.scatter(marker_LDA[:,0], marker_LDA[:, 1], c=[palette[x] for x in culture_data.Culture])\n",
    "\n",
    "plt.xlabel(\"LDA 1\")\n",
    "plt.ylabel(\"LDA 2\")\n",
    "plt.gca().set_aspect('equal', 'datalim')"
   ]
  },
  {
   "cell_type": "code",
   "execution_count": null,
   "id": "239d36e7",
   "metadata": {},
   "outputs": [],
   "source": [
    "marker_PCA = PCA().fit(marker_data)"
   ]
  },
  {
   "cell_type": "code",
   "execution_count": null,
   "id": "4a473498",
   "metadata": {},
   "outputs": [],
   "source": [
    "target = culture_data.Culture.to_numpy()\n",
    "\n",
    "loadings = marker_PCA.components_\n",
    "marker_PCA.explained_variance_\n",
    "\n",
    "pca_scores = PCA().fit_transform(marker_data)\n",
    "\n",
    "cluster.biplot(cscore=pca_scores, loadings=loadings, labels=culture_data.Culture, var1=round(marker_PCA.explained_variance_ratio_[0]*100, 2), var2=round(marker_PCA.explained_variance_ratio_[1]*100, 2))"
   ]
  }
 ],
 "metadata": {
  "kernelspec": {
   "display_name": "Python 3 (ipykernel)",
   "language": "python",
   "name": "python3"
  },
  "language_info": {
   "codemirror_mode": {
    "name": "ipython",
    "version": 3
   },
   "file_extension": ".py",
   "mimetype": "text/x-python",
   "name": "python",
   "nbconvert_exporter": "python",
   "pygments_lexer": "ipython3",
   "version": "3.9.12"
  }
 },
 "nbformat": 4,
 "nbformat_minor": 5
}
