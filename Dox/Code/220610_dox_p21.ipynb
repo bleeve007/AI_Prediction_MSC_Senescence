{
 "cells": [
  {
   "cell_type": "code",
   "execution_count": 1,
   "id": "a7f7ea6c",
   "metadata": {},
   "outputs": [],
   "source": [
    "import numpy as np\n",
    "import matplotlib.pyplot as plt\n",
    "import matplotlib.patches as mpatches\n",
    "from matplotlib.patches import Ellipse\n",
    "import matplotlib.transforms as transforms\n",
    "import pandas as pd\n",
    "from scipy import stats\n",
    "\n",
    "font = {'family' : 'sans-serif',\n",
    "        'weight' : 'normal',\n",
    "        'size'   : 30}\n",
    "\n",
    "plt.rc('font', **font)\n",
    "\n",
    "\n",
    "from matplotlib.markers import TICKDOWN"
   ]
  },
  {
   "cell_type": "code",
   "execution_count": 2,
   "id": "ab34cd8d",
   "metadata": {},
   "outputs": [],
   "source": [
    "def file_import(file_path, sheet_names):\n",
    "    file_name = pd.read_excel(file_path, sheet_name = sheet_names)\n",
    "    return file_name\n",
    "\n",
    "def confidence_ellipse(x, y, ax, n_std=3.0, facecolor='none', **kwargs):\n",
    "    \"\"\"\n",
    "    Create a plot of the covariance confidence ellipse of *x* and *y*.\n",
    "\n",
    "    Parameters\n",
    "    ----------\n",
    "    x, y : array-like, shape (n, )\n",
    "        Input data.\n",
    "\n",
    "    ax : matplotlib.axes.Axes\n",
    "        The axes object to draw the ellipse into.\n",
    "\n",
    "    n_std : float\n",
    "        The number of standard deviations to determine the ellipse's radiuses.\n",
    "\n",
    "    **kwargs\n",
    "        Forwarded to `~matplotlib.patches.Ellipse`\n",
    "\n",
    "    Returns\n",
    "    -------\n",
    "    matplotlib.patches.Ellipse\n",
    "    \"\"\"\n",
    "    if x.size != y.size:\n",
    "        raise ValueError(\"x and y must be the same size\")\n",
    "\n",
    "    cov = np.cov(x, y)\n",
    "    pearson = cov[0, 1]/np.sqrt(cov[0, 0] * cov[1, 1])\n",
    "    # Using a special case to obtain the eigenvalues of this\n",
    "    # two-dimensionl dataset.\n",
    "    ell_radius_x = np.sqrt(1 + pearson)\n",
    "    ell_radius_y = np.sqrt(1 - pearson)\n",
    "    ellipse = Ellipse((0, 0), width=ell_radius_x * 2, height=ell_radius_y * 2,\n",
    "                      facecolor=facecolor, **kwargs)\n",
    "\n",
    "    # Calculating the stdandard deviation of x from\n",
    "    # the squareroot of the variance and multiplying\n",
    "    # with the given number of standard deviations.\n",
    "    scale_x = np.sqrt(cov[0, 0]) * n_std\n",
    "    mean_x = np.mean(x)\n",
    "\n",
    "    # calculating the stdandard deviation of y ...\n",
    "    scale_y = np.sqrt(cov[1, 1]) * n_std\n",
    "    mean_y = np.mean(y)\n",
    "\n",
    "    transf = transforms.Affine2D() \\\n",
    "        .rotate_deg(45) \\\n",
    "        .scale(scale_x, scale_y) \\\n",
    "        .translate(mean_x, mean_y)\n",
    "\n",
    "    ellipse.set_transform(transf + ax.transData)\n",
    "    return ax.add_patch(ellipse)\n",
    "\n",
    "def pearsonr_1D(x, y):\n",
    "    if (x.size != y.size):\n",
    "        return None\n",
    "    \n",
    "    xm = x - np.mean(x)\n",
    "    ym = y - np.mean(y)\n",
    "    upper = np.sum(xm * ym)\n",
    "    lower = np.sqrt(np.sum(np.power(xm, 2)) * np.sum(np.power(ym, 2)))\n",
    "    \n",
    "    if (lower == 0):\n",
    "        return None\n",
    "    \n",
    "    rho = upper / lower\n",
    "    return rho"
   ]
  },
  {
   "cell_type": "code",
   "execution_count": 3,
   "id": "8ff65f01",
   "metadata": {},
   "outputs": [
    {
     "name": "stdout",
     "output_type": "stream",
     "text": [
      "0     0.35808\n",
      "1     0.26408\n",
      "2     1.03408\n",
      "3     0.60108\n",
      "4     0.51508\n",
      "5     0.51508\n",
      "6     0.27608\n",
      "7     0.39508\n",
      "8     0.60208\n",
      "9     0.53608\n",
      "10    0.32508\n",
      "11    0.71108\n",
      "12    0.12108\n",
      "13    1.29208\n",
      "14    0.52708\n",
      "15    0.31308\n",
      "16    0.48608\n",
      "17    0.24508\n",
      "18    0.02308\n",
      "19    0.13708\n",
      "20    0.55408\n",
      "21    0.02908\n",
      "22    0.26308\n",
      "23    0.46408\n",
      "24    0.26808\n",
      "25    0.11008\n",
      "26    0.36408\n",
      "27    0.72008\n",
      "28    0.74308\n",
      "29    0.30708\n",
      "Name: Mean, dtype: float64\n"
     ]
    }
   ],
   "source": [
    "# Import Data\n",
    "p21_control_pred = file_import(r\"C:\\Users\\Brandon\\Desktop\\Work\\Lin_Lab\\MSC\\Data\\220630_MSC_dox\\Data\\220610_dox_p21_control_pred.xlsx\", [\"single_cell\", \"background\"])\n",
    "p21_control_target = file_import(r\"C:\\Users\\Brandon\\Desktop\\Work\\Lin_Lab\\MSC\\Data\\220630_MSC_dox\\Data\\220610_dox_p21_control_target.xlsx\", [\"single_cell\", \"background\"])\n",
    "\n",
    "p21_dox_pred = file_import(r\"C:\\Users\\Brandon\\Desktop\\Work\\Lin_Lab\\MSC\\Data\\220610_MSC_dox\\Data\\220610_dox_p21_dox_pred.xlsx\", [\"single_cell\", \"background\"])\n",
    "p21_dox_target = file_import(r\"C:\\Users\\Brandon\\Desktop\\Work\\Lin_Lab\\MSC\\Data\\220610_MSC_dox\\Data\\220610_dox_p21_dox_target.xlsx\", [\"single_cell\", \"background\"])\n",
    "\n",
    "# Standardize Data to Background\n",
    "p21_control_pred[\"single_cell\"].Mean = p21_control_pred[\"single_cell\"].Mean - np.mean (p21_control_pred[\"background\"].Mean)\n",
    "p21_control_target[\"single_cell\"].Mean = p21_control_target[\"single_cell\"].Mean - np.mean (p21_control_target[\"background\"].Mean)\n",
    "p21_dox_pred[\"single_cell\"].Mean = p21_dox_pred[\"single_cell\"].Mean - np.mean (p21_dox_pred[\"background\"].Mean)\n",
    "p21_dox_target[\"single_cell\"].Mean = p21_dox_target[\"single_cell\"].Mean - np.mean (p21_dox_target[\"background\"].Mean)\n",
    "\n",
    "print (p21_control_target[\"single_cell\"].Mean)"
   ]
  },
  {
   "cell_type": "code",
   "execution_count": 4,
   "id": "1036dcd2",
   "metadata": {
    "scrolled": true
   },
   "outputs": [
    {
     "data": {
      "image/png": "[encoded data removed]",
      "text/plain": [
       "<Figure size 720x720 with 1 Axes>"
      ]
     },
     "metadata": {
      "needs_background": "light"
     },
     "output_type": "display_data"
    }
   ],
   "source": [
    "fig, axs = plt.subplots(figsize = [10,10])\n",
    "axs.spines[\"top\"].set_linewidth(5)\n",
    "axs.spines[\"left\"].set_linewidth(5)\n",
    "axs.spines[\"right\"].set_linewidth(5)\n",
    "axs.spines[\"bottom\"].set_linewidth(5)\n",
    "\n",
    "plt.xlim(-2,10)\n",
    "plt.ylim(-2,10)\n",
    "\n",
    "# Plot f(x) = x\n",
    "xmin, xmax = plt.xlim()\n",
    "x = np.linspace(xmin, xmax, 1000)\n",
    "plt.plot (x, x, c = 'black', alpha = 0.2, linewidth = 5)\n",
    "\n",
    "# Plot Scatter Plots\n",
    "plt.scatter(p21_control_target[\"single_cell\"].Mean, p21_control_pred[\"single_cell\"].Mean, c = \"#0066ff\", alpha = 0.5, label = \"Control\", s=1000)\n",
    "plt.scatter(p21_dox_target[\"single_cell\"].Mean, p21_dox_pred[\"single_cell\"].Mean, c = \"#ff9900\", alpha = 0.5, label = \"Dox\", s=1000)\n",
    "\n",
    "# Plot Circles\n",
    "confidence_ellipse (p21_control_target[\"single_cell\"].Mean, p21_control_pred[\"single_cell\"].Mean, ax = axs, n_std = 2.0, edgecolor = \"#0066ff\", linewidth=20)\n",
    "confidence_ellipse (p21_dox_target[\"single_cell\"].Mean, p21_dox_pred[\"single_cell\"].Mean, ax = axs, n_std = 2.0, edgecolor = \"#ff9900\", linewidth=20)\n",
    "\n",
    "# Plot Titles\n",
    "# plt.title (\"p21\")\n",
    "# plt.xlabel (\"Target Intensity\", fontsize = 'small')\n",
    "# plt.ylabel (\"Prediction Intensity\", fontsize = 'small')\n",
    "# plt.legend()\n",
    "\n",
    "axs.axes.xaxis.set_visible(False)\n",
    "axs.axes.yaxis.set_visible(False)\n",
    "\n",
    "# plt.legend(frameon=False, loc='upper center', ncol = 5, fontsize = 'x-small', labelspacing = 0, handlelength = 1.5, handletextpad = 0, borderpad = 0, columnspacing = 0)\n",
    "\n",
    "plt.tight_layout()\n",
    "plt.savefig(fname=\"p21\")"
   ]
  },
  {
   "cell_type": "code",
   "execution_count": 5,
   "id": "53c8deb9",
   "metadata": {
    "scrolled": true
   },
   "outputs": [
    {
     "data": {
      "image/png": "[encoded data removed]",
      "text/plain": [
       "<Figure size 720x720 with 1 Axes>"
      ]
     },
     "metadata": {
      "needs_background": "light"
     },
     "output_type": "display_data"
    }
   ],
   "source": [
    "# Constants\n",
    "indexes = np.arange(2)\n",
    "bar_width = 0.35\n",
    "\n",
    "# Create Subplot\n",
    "fix, ax = plt.subplots(figsize = [10,10])\n",
    "\n",
    "plt.ylim(0,10)\n",
    "\n",
    "ax.spines[\"top\"].set_linewidth(5)\n",
    "ax.spines[\"left\"].set_linewidth(5)\n",
    "ax.spines[\"right\"].set_linewidth(5)\n",
    "ax.spines[\"bottom\"].set_linewidth(5)\n",
    "\n",
    "plt.rcParams['hatch.linewidth'] = 5\n",
    "\n",
    "\n",
    "# Plot Barplot\n",
    "error_config = dict(elinewidth = 5, ecolor = '0', capsize = 20)\n",
    "ax.bar(0, p21_control_pred[\"single_cell\"].Mean.mean(), bar_width, yerr = p21_control_pred[\"single_cell\"].Mean.std(), error_kw = error_config, color = \"#0066ff\", edgecolor = \"black\", linewidth = 5)\n",
    "ax.bar(bar_width, p21_control_target[\"single_cell\"].Mean.mean(), bar_width, yerr = p21_control_target[\"single_cell\"].Mean.std(), error_kw = error_config, color = \"#0066ff\", hatch = \"/\", edgecolor = \"white\", linewidth = 5)\n",
    "ax.bar(bar_width, p21_control_target[\"single_cell\"].Mean.mean(), bar_width, yerr = p21_control_target[\"single_cell\"].Mean.std(), error_kw = error_config, color = \"none\", edgecolor = \"black\", linewidth = 5)\n",
    "\n",
    "ax.bar(1, p21_dox_pred[\"single_cell\"].Mean.mean(), bar_width, yerr = p21_dox_pred[\"single_cell\"].Mean.std(), error_kw = error_config, color = \"#ff9900\", edgecolor = \"black\", linewidth = 5)\n",
    "ax.bar(1+bar_width, p21_dox_target[\"single_cell\"].Mean.mean(), bar_width, yerr = p21_dox_target[\"single_cell\"].Mean.std(), error_kw = error_config, color = \"#ff9900\", hatch = \"/\", edgecolor = \"white\", linewidth = 5)\n",
    "ax.bar(1+bar_width, p21_dox_target[\"single_cell\"].Mean.mean(), bar_width, yerr = p21_dox_target[\"single_cell\"].Mean.std(), error_kw = error_config, color = \"none\", edgecolor = \"black\", linewidth = 5)\n",
    "\n",
    "# Plot Titles\n",
    "# ax.set_title(\"p21\")\n",
    "# ax.set_ylabel(\"Mean Intensity\")\n",
    "ax.set_xticks(indexes + bar_width / 2)\n",
    "# ax.set_xticklabels([\"Control\", \"Dox\"])\n",
    "\n",
    "ax.axes.xaxis.set_visible(False)\n",
    "ax.axes.yaxis.set_visible(False)\n",
    "\n",
    "\n",
    "# prediction_label = mpatches.Patch(facecolor='#0096ff', label='Prediction')\n",
    "# target_label = mpatches.Patch(facecolor='#0096ff', hatch = \"/\", label='Target')\n",
    "# plt.legend(handles=[prediction_label, target_label], frameon=False, loc='upper left', fontsize = 'xx-small', borderpad = 0)\n",
    "\n",
    "plt.tight_layout()\n",
    "plt.savefig(fname=\"p21_bar\")"
   ]
  },
  {
   "cell_type": "code",
   "execution_count": 6,
   "id": "1ea120ad",
   "metadata": {},
   "outputs": [
    {
     "data": {
      "text/plain": [
       "Ttest_indResult(statistic=-8.288164178768564, pvalue=2.017789909472901e-11)"
      ]
     },
     "execution_count": 6,
     "metadata": {},
     "output_type": "execute_result"
    }
   ],
   "source": [
    "stats.ttest_ind (p21_control_pred[\"single_cell\"].Mean, p21_dox_pred[\"single_cell\"].Mean)"
   ]
  },
  {
   "cell_type": "code",
   "execution_count": 7,
   "id": "72926516",
   "metadata": {},
   "outputs": [
    {
     "data": {
      "text/plain": [
       "Ttest_indResult(statistic=-6.288927701060268, pvalue=4.529836933040697e-08)"
      ]
     },
     "execution_count": 7,
     "metadata": {},
     "output_type": "execute_result"
    }
   ],
   "source": [
    "stats.ttest_ind (p21_control_target[\"single_cell\"].Mean, p21_dox_target[\"single_cell\"].Mean)"
   ]
  }
 ],
 "metadata": {
  "kernelspec": {
   "display_name": "Python 3 (ipykernel)",
   "language": "python",
   "name": "python3"
  },
  "language_info": {
   "codemirror_mode": {
    "name": "ipython",
    "version": 3
   },
   "file_extension": ".py",
   "mimetype": "text/x-python",
   "name": "python",
   "nbconvert_exporter": "python",
   "pygments_lexer": "ipython3",
   "version": "3.9.12"
  }
 },
 "nbformat": 4,
 "nbformat_minor": 5
}
