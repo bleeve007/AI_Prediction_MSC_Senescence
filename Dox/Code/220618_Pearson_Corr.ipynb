{
 "cells": [
  {
   "cell_type": "code",
   "execution_count": 15,
   "id": "dcbb993a",
   "metadata": {},
   "outputs": [],
   "source": [
    "import numpy as np\n",
    "import matplotlib.pyplot as plt\n",
    "import matplotlib.patches as mpatches\n",
    "import pandas as pd\n",
    "import scipy.stats as stats\n",
    "\n",
    "np.set_printoptions(threshold=np.inf)\n",
    "\n",
    "font = {'family' : 'arial',\n",
    "        'weight' : 'normal',\n",
    "        'size'   : 11}\n",
    "\n",
    "plt.rc('font', **font)\n",
    "\n",
    "split_int = 4\n",
    "add_on_int = 2"
   ]
  },
  {
   "cell_type": "code",
   "execution_count": 16,
   "id": "3adb46f3",
   "metadata": {},
   "outputs": [],
   "source": [
    "def file_import(file_path, sheet_names):\n",
    "    file_name = pd.read_excel(file_path, sheet_name = sheet_names)\n",
    "    return file_name\n",
    "\n",
    "def pearsonr_1D(x, y):\n",
    "    if (x.size != y.size):\n",
    "        return None\n",
    "    \n",
    "    xm = x - np.mean(x)\n",
    "    ym = y - np.mean(y)\n",
    "    upper = np.sum(xm * ym)\n",
    "    lower = np.sqrt(np.sum(np.power(xm, 2)) * np.sum(np.power(ym, 2)))\n",
    "    \n",
    "    if (lower == 0):\n",
    "        return None\n",
    "    \n",
    "    rho = upper / lower\n",
    "    return rho"
   ]
  },
  {
   "cell_type": "code",
   "execution_count": 17,
   "id": "00160f01",
   "metadata": {},
   "outputs": [
    {
     "name": "stdout",
     "output_type": "stream",
     "text": [
      "[0.8490883135530138, 0.756517433551812, 0.5937980397150633, 0.5638937821203152]\n",
      "[0.30471690091865505, 0.7099663123890949, 0.9431071964236799, 0.49300748292488705]\n"
     ]
    }
   ],
   "source": [
    "# Import Data\n",
    "CD44_control_pred = file_import(r\"C:\\Users\\Brandon\\Desktop\\Work\\Lin_Lab\\MSC\\Data\\220630_MSC_dox\\Data\\220610_dox_CD44_control_pred.xlsx\", [\"single_cell\", \"background\"])\n",
    "CD44_control_target = file_import(r\"C:\\Users\\Brandon\\Desktop\\Work\\Lin_Lab\\MSC\\Data\\220630_MSC_dox\\Data\\220610_dox_CD44_control_target.xlsx\", [\"single_cell\", \"background\"])\n",
    "\n",
    "CD44_dox_pred = file_import(r\"C:\\Users\\Brandon\\Desktop\\Work\\Lin_Lab\\MSC\\Data\\220630_MSC_dox\\Data\\220610_dox_CD44_dox_pred.xlsx\", [\"single_cell\", \"background\"])\n",
    "CD44_dox_target = file_import(r\"C:\\Users\\Brandon\\Desktop\\Work\\Lin_Lab\\MSC\\Data\\220630_MSC_dox\\Data\\220610_dox_CD44_dox_target.xlsx\", [\"single_cell\", \"background\"])\n",
    "\n",
    "# Standardize Data to Background\n",
    "CD44_control_pred[\"single_cell\"].Mean = CD44_control_pred[\"single_cell\"].Mean - np.mean (CD44_control_pred[\"background\"].Mean)\n",
    "CD44_control_target[\"single_cell\"].Mean = CD44_control_target[\"single_cell\"].Mean - np.mean (CD44_control_target[\"background\"].Mean)\n",
    "CD44_dox_pred[\"single_cell\"].Mean = CD44_dox_pred[\"single_cell\"].Mean - np.mean (CD44_dox_pred[\"background\"].Mean)\n",
    "CD44_dox_target[\"single_cell\"].Mean = CD44_dox_target[\"single_cell\"].Mean - np.mean (CD44_dox_target[\"background\"].Mean)\n",
    "\n",
    "# Split Data\n",
    "CD44_control_pred_array = np.array_split(np.array(CD44_control_pred[\"single_cell\"].Mean),split_int)\n",
    "CD44_control_target_array = np.array_split(np.array(CD44_control_target[\"single_cell\"].Mean),split_int)\n",
    "CD44_dox_pred_array = np.array_split(np.array(CD44_dox_pred[\"single_cell\"].Mean),split_int)\n",
    "CD44_dox_target_array = np.array_split(np.array(CD44_dox_target[\"single_cell\"].Mean),split_int)\n",
    "\n",
    "# Pearson Correlation Coefficient\n",
    "CD44_control_pearsonr_values = []\n",
    "for pred, target in zip(CD44_control_pred_array, CD44_control_target_array):\n",
    "    CD44_control_pearsonr_values.append(pearsonr_1D(pred,target))\n",
    "\n",
    "CD44_dox_pearsonr_values = []\n",
    "for pred, target in zip(CD44_dox_pred_array, CD44_dox_target_array):\n",
    "    CD44_dox_pearsonr_values.append(pearsonr_1D(pred,target))\n",
    "    \n",
    "print(CD44_control_pearsonr_values)\n",
    "print(CD44_dox_pearsonr_values)"
   ]
  },
  {
   "cell_type": "code",
   "execution_count": 18,
   "id": "286ec8b2",
   "metadata": {},
   "outputs": [
    {
     "name": "stdout",
     "output_type": "stream",
     "text": [
      "[0.9617852614828548, 0.9448958706902562, 0.9736282296555242, 0.9360836433162829]\n",
      "[0.3260500200626033, 0.9909713553734523, 0.851325339752814, 0.8322640300431577]\n"
     ]
    }
   ],
   "source": [
    "# Import Data\n",
    "p16_control_pred = file_import(r\"C:\\Users\\Brandon\\Desktop\\Work\\Lin_Lab\\MSC\\Data\\220630_MSC_dox\\Data\\220610_dox_p16_control_pred.xlsx\", [\"single_cell\", \"background\"])\n",
    "p16_control_target = file_import(r\"C:\\Users\\Brandon\\Desktop\\Work\\Lin_Lab\\MSC\\Data\\220630_MSC_dox\\Data\\220610_dox_p16_control_target.xlsx\", [\"single_cell\", \"background\"])\n",
    "\n",
    "p16_dox_pred = file_import(r\"C:\\Users\\Brandon\\Desktop\\Work\\Lin_Lab\\MSC\\Data\\220630_MSC_dox\\Data\\220610_dox_p16_dox_pred.xlsx\", [\"single_cell\", \"background\"])\n",
    "p16_dox_target = file_import(r\"C:\\Users\\Brandon\\Desktop\\Work\\Lin_Lab\\MSC\\Data\\220630_MSC_dox\\Data\\220610_dox_p16_dox_target.xlsx\", [\"single_cell\", \"background\"])\n",
    "\n",
    "# Standardize Data to Background\n",
    "p16_control_pred[\"single_cell\"].Mean = p16_control_pred[\"single_cell\"].Mean - np.mean (p16_control_pred[\"background\"].Mean)\n",
    "p16_control_target[\"single_cell\"].Mean = p16_control_target[\"single_cell\"].Mean - np.mean (p16_control_target[\"background\"].Mean)\n",
    "p16_dox_pred[\"single_cell\"].Mean = p16_dox_pred[\"single_cell\"].Mean - np.mean (p16_dox_pred[\"background\"].Mean)\n",
    "p16_dox_target[\"single_cell\"].Mean = p16_dox_target[\"single_cell\"].Mean - np.mean (p16_dox_target[\"background\"].Mean)\n",
    "\n",
    "# Split Data\n",
    "p16_control_pred_array = np.array_split(np.array(p16_control_pred[\"single_cell\"].Mean),split_int)\n",
    "p16_control_target_array = np.array_split(np.array(p16_control_target[\"single_cell\"].Mean),split_int)\n",
    "p16_dox_pred_array = np.array_split(np.array(p16_dox_pred[\"single_cell\"].Mean),split_int)\n",
    "p16_dox_target_array = np.array_split(np.array(p16_dox_target[\"single_cell\"].Mean),split_int)\n",
    "\n",
    "# Pearson Correlation Coefficient\n",
    "p16_control_pearsonr_values = []\n",
    "for pred, target in zip(p16_control_pred_array, p16_control_target_array):\n",
    "    p16_control_pearsonr_values.append(pearsonr_1D(pred,target))\n",
    "\n",
    "p16_dox_pearsonr_values = []\n",
    "for pred, target in zip(p16_dox_pred_array, p16_dox_target_array):\n",
    "    p16_dox_pearsonr_values.append(pearsonr_1D(pred,target))\n",
    "    \n",
    "print(p16_control_pearsonr_values)\n",
    "print(p16_dox_pearsonr_values)"
   ]
  },
  {
   "cell_type": "code",
   "execution_count": 19,
   "id": "3755c463",
   "metadata": {},
   "outputs": [
    {
     "name": "stdout",
     "output_type": "stream",
     "text": [
      "[0.6110032099126893, 0.5167228625714928, 0.8531613978813504, -0.10765219470460019]\n",
      "[0.8446327889833662, 0.9026185518241139, 0.7532281926220793, 0.9426500602996143]\n"
     ]
    }
   ],
   "source": [
    "# Import Data\n",
    "p21_control_pred = file_import(r\"C:\\Users\\Brandon\\Desktop\\Work\\Lin_Lab\\MSC\\Data\\220630_MSC_dox\\Data\\220610_dox_p21_control_pred.xlsx\", [\"single_cell\", \"background\"])\n",
    "p21_control_target = file_import(r\"C:\\Users\\Brandon\\Desktop\\Work\\Lin_Lab\\MSC\\Data\\220630_MSC_dox\\Data\\220610_dox_p21_control_target.xlsx\", [\"single_cell\", \"background\"])\n",
    "\n",
    "p21_dox_pred = file_import(r\"C:\\Users\\Brandon\\Desktop\\Work\\Lin_Lab\\MSC\\Data\\220630_MSC_dox\\Data\\220610_dox_p21_dox_pred.xlsx\", [\"single_cell\", \"background\"])\n",
    "p21_dox_target = file_import(r\"C:\\Users\\Brandon\\Desktop\\Work\\Lin_Lab\\MSC\\Data\\220630_MSC_dox\\Data\\220610_dox_p21_dox_target.xlsx\", [\"single_cell\", \"background\"])\n",
    "\n",
    "# Standardize Data to Background\n",
    "p21_control_pred[\"single_cell\"].Mean = p21_control_pred[\"single_cell\"].Mean - np.mean (p21_control_pred[\"background\"].Mean)\n",
    "p21_control_target[\"single_cell\"].Mean = p21_control_target[\"single_cell\"].Mean - np.mean (p21_control_target[\"background\"].Mean)\n",
    "p21_dox_pred[\"single_cell\"].Mean = p21_dox_pred[\"single_cell\"].Mean - np.mean (p21_dox_pred[\"background\"].Mean)\n",
    "p21_dox_target[\"single_cell\"].Mean = p21_dox_target[\"single_cell\"].Mean - np.mean (p21_dox_target[\"background\"].Mean)\n",
    "\n",
    "# Split Data\n",
    "p21_control_pred_array = np.array_split(np.array(p21_control_pred[\"single_cell\"].Mean),split_int)\n",
    "p21_control_target_array = np.array_split(np.array(p21_control_target[\"single_cell\"].Mean),split_int)\n",
    "p21_dox_pred_array = np.array_split(np.array(p21_dox_pred[\"single_cell\"].Mean),split_int)\n",
    "p21_dox_target_array = np.array_split(np.array(p21_dox_target[\"single_cell\"].Mean),split_int)\n",
    "\n",
    "# Pearson Correlation Coefficient\n",
    "p21_control_pearsonr_values = []\n",
    "for pred, target in zip(p21_control_pred_array, p21_control_target_array):\n",
    "    p21_control_pearsonr_values.append(pearsonr_1D(pred,target))\n",
    "\n",
    "p21_dox_pearsonr_values = []\n",
    "for pred, target in zip(p21_dox_pred_array, p21_dox_target_array):\n",
    "    p21_dox_pearsonr_values.append(pearsonr_1D(pred,target))\n",
    "    \n",
    "print(p21_control_pearsonr_values)\n",
    "print(p21_dox_pearsonr_values)"
   ]
  },
  {
   "cell_type": "code",
   "execution_count": 20,
   "id": "08d7dd45",
   "metadata": {},
   "outputs": [
    {
     "name": "stdout",
     "output_type": "stream",
     "text": [
      "[0.9055061662302051, 0.8000442506615645, 0.6253734252036326, 0.9714335834468388]\n",
      "[0.5419626281206648, 0.14811288569393924, 0.6940949918123709, 0.4941936874106197, 0.8348890710832905, 0.3561553369776108]\n"
     ]
    }
   ],
   "source": [
    "# Import Data\n",
    "p38_control_pred = file_import(r\"C:\\Users\\Brandon\\Desktop\\Work\\Lin_Lab\\MSC\\Data\\220630_MSC_dox\\Data\\220610_dox_p38_control_pred.xlsx\", [\"single_cell\", \"background\"])\n",
    "p38_control_target = file_import(r\"C:\\Users\\Brandon\\Desktop\\Work\\Lin_Lab\\MSC\\Data\\220630_MSC_dox\\Data\\220610_dox_p38_control_target.xlsx\", [\"single_cell\", \"background\"])\n",
    "\n",
    "p38_dox_pred = file_import(r\"C:\\Users\\Brandon\\Desktop\\Work\\Lin_Lab\\MSC\\Data\\220630_MSC_dox\\Data\\220610_dox_p38_dox_pred.xlsx\", [\"single_cell\", \"background\"])\n",
    "p38_dox_target = file_import(r\"C:\\Users\\Brandon\\Desktop\\Work\\Lin_Lab\\MSC\\Data\\220630_MSC_dox\\Data\\220610_dox_p38_dox_target.xlsx\", [\"single_cell\", \"background\"])\n",
    "\n",
    "# Standardize Data to Background\n",
    "p38_control_pred[\"single_cell\"].Mean = p38_control_pred[\"single_cell\"].Mean - np.mean (p38_control_pred[\"background\"].Mean)\n",
    "p38_control_target[\"single_cell\"].Mean = p38_control_target[\"single_cell\"].Mean - np.mean (p38_control_target[\"background\"].Mean)\n",
    "p38_dox_pred[\"single_cell\"].Mean = p38_dox_pred[\"single_cell\"].Mean - np.mean (p38_dox_pred[\"background\"].Mean)\n",
    "p38_dox_target[\"single_cell\"].Mean = p38_dox_target[\"single_cell\"].Mean - np.mean (p38_dox_target[\"background\"].Mean)\n",
    "\n",
    "# Split Data\n",
    "p38_control_pred_array = np.array_split(np.array(p38_control_pred[\"single_cell\"].Mean),split_int)\n",
    "p38_control_target_array = np.array_split(np.array(p38_control_target[\"single_cell\"].Mean),split_int)\n",
    "p38_dox_pred_array = np.array_split(np.array(p38_dox_pred[\"single_cell\"].Mean),split_int+add_on_int)\n",
    "p38_dox_target_array = np.array_split(np.array(p38_dox_target[\"single_cell\"].Mean),split_int+add_on_int)\n",
    "\n",
    "# Pearson Correlation Coefficient\n",
    "p38_control_pearsonr_values = []\n",
    "for pred, target in zip(p38_control_pred_array, p38_control_target_array):\n",
    "    p38_control_pearsonr_values.append(pearsonr_1D(pred,target))\n",
    "\n",
    "p38_dox_pearsonr_values = []\n",
    "for pred, target in zip(p38_dox_pred_array, p38_dox_target_array):\n",
    "    p38_dox_pearsonr_values.append(pearsonr_1D(pred,target))\n",
    "    \n",
    "print(p38_control_pearsonr_values)\n",
    "print(p38_dox_pearsonr_values)"
   ]
  },
  {
   "cell_type": "code",
   "execution_count": 21,
   "id": "addbd961",
   "metadata": {},
   "outputs": [
    {
     "name": "stdout",
     "output_type": "stream",
     "text": [
      "[-0.23359887283430544, 0.41493915792193903, 0.7085003624741907, 0.7581044246322541, 0.9042911343472606, 0.8351181900725344]\n",
      "[0.3743932745056493, 0.12846460662557885, 0.4482762025110767, 0.7465510199571216, 0.7059288091740599, 0.8414760492307982]\n"
     ]
    }
   ],
   "source": [
    "# Import Data\n",
    "SABG_control_pred = file_import(r\"C:\\Users\\Brandon\\Desktop\\Work\\Lin_Lab\\MSC\\Data\\220630_MSC_dox\\Data\\220610_dox_SABG_control_pred.xlsx\", [\"single_cell\", \"background\"])\n",
    "SABG_control_target = file_import(r\"C:\\Users\\Brandon\\Desktop\\Work\\Lin_Lab\\MSC\\Data\\220630_MSC_dox\\Data\\220610_dox_SABG_control_target.xlsx\", [\"single_cell\", \"background\"])\n",
    "\n",
    "SABG_dox_pred = file_import(r\"C:\\Users\\Brandon\\Desktop\\Work\\Lin_Lab\\MSC\\Data\\220630_MSC_dox\\Data\\220610_dox_SABG_dox_pred.xlsx\", [\"single_cell\", \"background\"])\n",
    "SABG_dox_target = file_import(r\"C:\\Users\\Brandon\\Desktop\\Work\\Lin_Lab\\MSC\\Data\\220630_MSC_dox\\Data\\220610_dox_SABG_dox_target.xlsx\", [\"single_cell\", \"background\"])\n",
    "\n",
    "# Standardize Data to Background\n",
    "SABG_control_pred[\"single_cell\"].Mean = SABG_control_pred[\"single_cell\"].Mean - np.mean (SABG_control_pred[\"background\"].Mean)\n",
    "SABG_control_target[\"single_cell\"].Mean = SABG_control_target[\"single_cell\"].Mean - np.mean (SABG_control_target[\"background\"].Mean)\n",
    "SABG_dox_pred[\"single_cell\"].Mean = SABG_dox_pred[\"single_cell\"].Mean - np.mean (SABG_dox_pred[\"background\"].Mean)\n",
    "SABG_dox_target[\"single_cell\"].Mean = SABG_dox_target[\"single_cell\"].Mean - np.mean (SABG_dox_target[\"background\"].Mean)\n",
    "\n",
    "# Split Data\n",
    "SABG_control_pred_array = np.array_split(np.array(SABG_control_pred[\"single_cell\"].Mean),split_int+add_on_int)\n",
    "SABG_control_target_array = np.array_split(np.array(SABG_control_target[\"single_cell\"].Mean),split_int+add_on_int)\n",
    "SABG_dox_pred_array = np.array_split(np.array(SABG_dox_pred[\"single_cell\"].Mean),split_int+add_on_int)\n",
    "SABG_dox_target_array = np.array_split(np.array(SABG_dox_target[\"single_cell\"].Mean),split_int+add_on_int)\n",
    "\n",
    "# Pearson Correlation Coefficient\n",
    "SABG_control_pearsonr_values = []\n",
    "for pred, target in zip(SABG_control_pred_array, SABG_control_target_array):\n",
    "    SABG_control_pearsonr_values.append(pearsonr_1D(pred,target))\n",
    "\n",
    "SABG_dox_pearsonr_values = []\n",
    "for pred, target in zip(SABG_dox_pred_array, SABG_dox_target_array):\n",
    "    SABG_dox_pearsonr_values.append(pearsonr_1D(pred,target))\n",
    "    \n",
    "print(SABG_control_pearsonr_values)\n",
    "print(SABG_dox_pearsonr_values)"
   ]
  },
  {
   "cell_type": "code",
   "execution_count": 22,
   "id": "b1df2d75",
   "metadata": {},
   "outputs": [
    {
     "data": {
      "image/png": "[encoded data removed]",
      "text/plain": [
       "<Figure size 1440x720 with 1 Axes>"
      ]
     },
     "metadata": {
      "needs_background": "light"
     },
     "output_type": "display_data"
    }
   ],
   "source": [
    "fig, ax = plt.subplots(figsize = [20,10])\n",
    "\n",
    "plt.ylim(0,1)\n",
    "ax.spines[\"top\"].set_linewidth(5)\n",
    "ax.spines[\"left\"].set_linewidth(5)\n",
    "ax.spines[\"right\"].set_linewidth(5)\n",
    "ax.spines[\"bottom\"].set_linewidth(5)\n",
    "\n",
    "color1 = '#0066ff'\n",
    "color2 = '#ff9900'\n",
    "\n",
    "def set_box_color (bp):\n",
    "    plt.setp (bp['boxes'][0], color = 'black', facecolor = color1)\n",
    "    plt.setp (bp['whiskers'][0], color = 'black')\n",
    "    plt.setp (bp['whiskers'][1], color = 'black')\n",
    "    plt.setp (bp['caps'][0], color = 'black')\n",
    "    plt.setp (bp['caps'][1], color = 'black')\n",
    "    plt.setp (bp['medians'][0], color = 'black')\n",
    "    plt.setp (bp['medians'][0], color = 'black')\n",
    "    \n",
    "    plt.setp (bp['boxes'][1], color = 'black', facecolor = color2)\n",
    "    plt.setp (bp['whiskers'][2], color = 'black')\n",
    "    plt.setp (bp['whiskers'][3], color = 'black')\n",
    "    plt.setp (bp['caps'][2], color = 'black')\n",
    "    plt.setp (bp['caps'][3], color = 'black')\n",
    "    plt.setp (bp['medians'][1], color = 'black')\n",
    "    plt.setp (bp['medians'][1], color = 'black')\n",
    "\n",
    "\n",
    "    # Rectangular Box Plot with Data\n",
    "boxprops = dict(linestyle='-', linewidth=5)\n",
    "medianprops = dict(linestyle='-', linewidth=5)\n",
    "meanprops = dict(linestyle='-', linewidth=5)\n",
    "whiskerproprs = dict(linestyle='-', linewidth=5)\n",
    "\n",
    "SABG_bplot = ax.boxplot ([SABG_control_pearsonr_values, SABG_dox_pearsonr_values],  boxprops = boxprops, medianprops=medianprops, meanprops = meanprops, vert = True, patch_artist = True, positions = [1,2],  widths = 0.8, showfliers=False, flierprops = {'marker': 'x'})\n",
    "set_box_color (SABG_bplot)\n",
    "\n",
    "for whisker in SABG_bplot['whiskers']: \n",
    "    whisker.set(linewidth = 5)\n",
    "\n",
    "for caps in SABG_bplot['caps']:\n",
    "    caps.set(linewidth = 5)\n",
    "    \n",
    "p16_bplot = ax.boxplot ([p16_control_pearsonr_values, p16_dox_pearsonr_values],  boxprops = boxprops, medianprops=medianprops, meanprops = meanprops, vert = True, patch_artist = True, positions = [4,5],  widths = 0.8, showfliers=False, flierprops = {'marker': 'x'})\n",
    "set_box_color (p16_bplot)\n",
    "\n",
    "for whisker in p16_bplot['whiskers']: \n",
    "    whisker.set(linewidth = 5)\n",
    "\n",
    "for caps in p16_bplot['caps']:\n",
    "    caps.set(linewidth = 5)\n",
    "    \n",
    "p21_bplot = ax.boxplot ([p21_control_pearsonr_values, p21_dox_pearsonr_values],  boxprops = boxprops, medianprops=medianprops, meanprops = meanprops, vert = True, patch_artist = True, positions = [7,8],  widths = 0.8, showfliers=False, flierprops = {'marker': 'x'})\n",
    "set_box_color (p21_bplot)\n",
    "\n",
    "for whisker in p21_bplot['whiskers']: \n",
    "    whisker.set(linewidth = 5)\n",
    "\n",
    "for caps in p21_bplot['caps']:\n",
    "    caps.set(linewidth = 5)\n",
    "\n",
    "p38_bplot = ax.boxplot ([p38_control_pearsonr_values, p38_dox_pearsonr_values],  boxprops = boxprops, medianprops=medianprops, meanprops = meanprops, vert = True, patch_artist = True, positions = [10,11],  widths = 0.8, showfliers=False, flierprops = {'marker': 'x'})\n",
    "set_box_color (p38_bplot)\n",
    "\n",
    "for whisker in p38_bplot['whiskers']: \n",
    "    whisker.set(linewidth = 5)\n",
    "\n",
    "for caps in p38_bplot['caps']:\n",
    "    caps.set(linewidth = 5)\n",
    "\n",
    "CD44_bplot = ax.boxplot ([CD44_control_pearsonr_values, CD44_dox_pearsonr_values], boxprops = boxprops, medianprops=medianprops, meanprops = meanprops, vert = True, patch_artist=True, positions = [13,14],  widths = 0.8, showfliers=False)\n",
    "set_box_color (CD44_bplot)\n",
    "\n",
    "for whisker in CD44_bplot['whiskers']: \n",
    "    whisker.set(linewidth = 5)\n",
    "\n",
    "for caps in CD44_bplot['caps']:\n",
    "    caps.set(linewidth = 5)\n",
    "\n",
    "# Organize Plot\n",
    "plt.xlim (0, 15)\n",
    "plt.ylim (0, 1)\n",
    "ax.set_xticks([1.5, 4.5, 7.5, 10.5, 13.5])\n",
    "ax.set_xticklabels (['CD44', 'p16', 'p21', 'p38', 'SABG'])\n",
    "\n",
    "# plt.title (\"Single Cell Pearson Correlation Coefficient\")\n",
    "plt.ylabel (\"r\")\n",
    "\n",
    "# control_label = mpatches.Patch(facecolor=color1, edgecolor = 'black', linewidth = 5, label = \"                 \")\n",
    "# dox_label = mpatches.Patch(facecolor=color2, edgecolor = 'black', linewidth = 5, label = \"                   \")\n",
    "# plt.legend(handles=[control_label, dox_label], frameon=False, fontsize = 70, borderpad = 0, labelspacing = 0, handlelength = 2)\n",
    "\n",
    "ax.axes.xaxis.set_visible(False)\n",
    "ax.axes.yaxis.set_visible(False)\n",
    "\n",
    "# Add combined in addition to Control and Dox\n",
    "\n",
    "plt.tight_layout()\n",
    "plt.savefig(fname=\"dox_pearson\")"
   ]
  },
  {
   "cell_type": "code",
   "execution_count": 23,
   "id": "fedc8ac6",
   "metadata": {},
   "outputs": [
    {
     "name": "stdout",
     "output_type": "stream",
     "text": [
      "0.690824392235051\n",
      "0.6126994731640792\n"
     ]
    }
   ],
   "source": [
    "print (np.mean(CD44_control_pearsonr_values))\n",
    "print (np.mean(CD44_dox_pearsonr_values))"
   ]
  },
  {
   "cell_type": "code",
   "execution_count": 24,
   "id": "e1e28076",
   "metadata": {},
   "outputs": [
    {
     "name": "stdout",
     "output_type": "stream",
     "text": [
      "0.9540982512862295\n",
      "0.7501526863080068\n"
     ]
    }
   ],
   "source": [
    "print (np.mean(p16_control_pearsonr_values))\n",
    "print (np.mean(p16_dox_pearsonr_values))"
   ]
  },
  {
   "cell_type": "code",
   "execution_count": 25,
   "id": "0567381d",
   "metadata": {},
   "outputs": [
    {
     "name": "stdout",
     "output_type": "stream",
     "text": [
      "0.4683088189152331\n",
      "0.8607823984322934\n"
     ]
    }
   ],
   "source": [
    "print (np.mean(p21_control_pearsonr_values))\n",
    "print (np.mean(p21_dox_pearsonr_values))"
   ]
  },
  {
   "cell_type": "code",
   "execution_count": 26,
   "id": "c3408c33",
   "metadata": {},
   "outputs": [
    {
     "name": "stdout",
     "output_type": "stream",
     "text": [
      "0.8255893563855603\n",
      "0.5115681001830826\n"
     ]
    }
   ],
   "source": [
    "print (np.mean(p38_control_pearsonr_values))\n",
    "print (np.mean(p38_dox_pearsonr_values))"
   ]
  },
  {
   "cell_type": "code",
   "execution_count": 27,
   "id": "01b242e5",
   "metadata": {},
   "outputs": [
    {
     "name": "stdout",
     "output_type": "stream",
     "text": [
      "0.5645590661023122\n",
      "0.5408483270007141\n"
     ]
    }
   ],
   "source": [
    "print (np.mean(SABG_control_pearsonr_values))\n",
    "print (np.mean(SABG_dox_pearsonr_values))"
   ]
  },
  {
   "cell_type": "code",
   "execution_count": 28,
   "id": "fb3a5535",
   "metadata": {},
   "outputs": [
    {
     "name": "stdout",
     "output_type": "stream",
     "text": [
      "0.6598190101439667\n"
     ]
    }
   ],
   "source": [
    "total_pearsonr_values = CD44_control_pearsonr_values\n",
    "total_pearsonr_values += CD44_dox_pearsonr_values\n",
    "total_pearsonr_values += p16_control_pearsonr_values\n",
    "total_pearsonr_values += p16_dox_pearsonr_values\n",
    "total_pearsonr_values += p21_control_pearsonr_values\n",
    "total_pearsonr_values += p21_dox_pearsonr_values\n",
    "total_pearsonr_values += p38_control_pearsonr_values\n",
    "total_pearsonr_values += p38_dox_pearsonr_values\n",
    "total_pearsonr_values += SABG_control_pearsonr_values\n",
    "total_pearsonr_values += SABG_dox_pearsonr_values\n",
    "print (np.mean(total_pearsonr_values))"
   ]
  }
 ],
 "metadata": {
  "kernelspec": {
   "display_name": "Python 3 (ipykernel)",
   "language": "python",
   "name": "python3"
  },
  "language_info": {
   "codemirror_mode": {
    "name": "ipython",
    "version": 3
   },
   "file_extension": ".py",
   "mimetype": "text/x-python",
   "name": "python",
   "nbconvert_exporter": "python",
   "pygments_lexer": "ipython3",
   "version": "3.9.12"
  }
 },
 "nbformat": 4,
 "nbformat_minor": 5
}
