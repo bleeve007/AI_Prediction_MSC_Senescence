{
 "cells": [
  {
   "cell_type": "code",
   "execution_count": 52,
   "id": "dcbb993a",
   "metadata": {},
   "outputs": [],
   "source": [
    "import numpy as np\n",
    "import matplotlib.pyplot as plt\n",
    "from matplotlib.pyplot import figure\n",
    "import matplotlib.patches as mpatches\n",
    "\n",
    "import pandas as pd\n",
    "import scipy.stats as stats\n",
    "\n",
    "np.set_printoptions(threshold=np.inf)\n",
    "\n",
    "font = {'family' : 'sans-serif',\n",
    "        'weight' : 'normal',\n",
    "        'size'   : 15}\n",
    "\n",
    "plt.rc('font', **font)"
   ]
  },
  {
   "cell_type": "code",
   "execution_count": 53,
   "id": "3adb46f3",
   "metadata": {},
   "outputs": [],
   "source": [
    "def file_import(file_path, sheet_names):\n",
    "    file_name = pd.read_excel(file_path, sheet_name = sheet_names)\n",
    "    return file_name\n",
    "\n",
    "def pearsonr_1D(x, y):\n",
    "    if (x.size != y.size):\n",
    "        return None\n",
    "    \n",
    "    xm = x - np.mean(x)\n",
    "    ym = y - np.mean(y)\n",
    "    upper = np.sum(xm * ym)\n",
    "    lower = np.sqrt(np.sum(np.power(xm, 2)) * np.sum(np.power(ym, 2)))\n",
    "    \n",
    "    if (lower == 0):\n",
    "        return None\n",
    "    \n",
    "    rho = upper / lower\n",
    "    return rho"
   ]
  },
  {
   "cell_type": "code",
   "execution_count": 54,
   "id": "00160f01",
   "metadata": {},
   "outputs": [
    {
     "name": "stdout",
     "output_type": "stream",
     "text": [
      "[-0.009928878462189804, 0.23783160386981747, -0.1774461533960488, 0.635494232727411, 0.1898677924265208, 0.595870035961419, 0.7691172199543337, 0.11497465482342084, -0.11268454383212612, 0.6216420584590618, 0.6168606619550112, 0.3193437988509363, 0.5462278635685517, -0.1267993961085228, 0.2680839683982174]\n"
     ]
    }
   ],
   "source": [
    "# Import Data\n",
    "p16_FBS_pred = file_import(r\"C:\\Users\\Brandon\\Desktop\\Work\\Lin_Lab\\MSC\\Data\\220126_Replicative_Senescence\\Data\\211111_FBS_p16_prediction.xlsx\", [\"P2\", \"P4\", \"P6\", \"P8\", \"P10\"])\n",
    "p16_FBS_target = file_import(r\"C:\\Users\\Brandon\\Desktop\\Work\\Lin_Lab\\MSC\\Data\\220126_Replicative_Senescence\\Data\\211111_FBS_p16_target.xlsx\", [\"P2\", \"P4\", \"P6\", \"P8\", \"P10\"])\n",
    "\n",
    "# Import Backgrounds\n",
    "p16_FBS_pred_background = file_import(r\"C:\\Users\\Brandon\\Desktop\\Work\\Lin_Lab\\MSC\\Data\\220126_Replicative_Senescence\\Data\\211111_FBS_p16_prediction.xlsx\", [\"P2_Background\", \"P4_Background\", \"P6_Background\", \"P8_Background\", \"P10_Background\"])\n",
    "p16_FBS_target_background = file_import(r\"C:\\Users\\Brandon\\Desktop\\Work\\Lin_Lab\\MSC\\Data\\220126_Replicative_Senescence\\Data\\211111_FBS_p16_prediction.xlsx\", [\"P2_Background\", \"P4_Background\", \"P6_Background\", \"P8_Background\", \"P10_Background\"])\n",
    "\n",
    "# Standardize Data to Background and P2\n",
    "for pred, background in zip(p16_FBS_pred, p16_FBS_pred_background):\n",
    "    p16_FBS_pred[pred].Mean = p16_FBS_pred[pred].Mean - np.mean (p16_FBS_pred_background[background].Mean)\n",
    "\n",
    "for target, background in zip(p16_FBS_target, p16_FBS_target_background):\n",
    "    p16_FBS_target[target].Mean = p16_FBS_target[target].Mean - np.mean (p16_FBS_target_background[background].Mean)\n",
    "\n",
    "# Concatenate Data\n",
    "p16_FBS_pred = pd.concat(p16_FBS_pred, ignore_index=True)\n",
    "p16_FBS_target = pd.concat(p16_FBS_target, ignore_index=True)\n",
    "\n",
    "# Split Data\n",
    "p16_FBS_pred_array = np.array_split(np.array(p16_FBS_pred.Mean),15)\n",
    "p16_FBS_target_array = np.array_split(np.array(p16_FBS_target.Mean),15)\n",
    "\n",
    "# Pearson Correlation Coefficient\n",
    "p16_FBS_pearsonr_values = []\n",
    "for pred, target in zip(p16_FBS_pred_array, p16_FBS_target_array):\n",
    "    p16_FBS_pearsonr_values.append(pearsonr_1D(pred,target))\n",
    "    \n",
    "print(p16_FBS_pearsonr_values)"
   ]
  },
  {
   "cell_type": "code",
   "execution_count": 55,
   "id": "00717e31",
   "metadata": {},
   "outputs": [
    {
     "name": "stdout",
     "output_type": "stream",
     "text": [
      "[0.36498290603366357, 0.7892583869876694, 0.23871504143213435, 0.8319397667832531, 0.8447884135672266, 0.9368352297819619, 0.6244008229945959, 0.6127854986661745, 0.8283151580808609, 0.6682570853314233, 0.7971472817734613, 0.7804114746775883, 0.9381338362729988, 0.4758134500934997, 0.7690539924265947]\n"
     ]
    }
   ],
   "source": [
    "# Import Data\n",
    "p16_stemfit_pred = file_import(r\"C:\\Users\\Brandon\\Desktop\\Work\\Lin_Lab\\MSC\\Data\\220126_Replicative_Senescence\\Data\\211111_stemfit_p16_prediction.xlsx\", [\"P2\", \"P4\", \"P6\", \"P8\", \"P10\"])\n",
    "p16_stemfit_target = file_import(r\"C:\\Users\\Brandon\\Desktop\\Work\\Lin_Lab\\MSC\\Data\\220126_Replicative_Senescence\\Data\\211111_stemfit_p16_target.xlsx\", [\"P2\", \"P4\", \"P6\", \"P8\", \"P10\"])\n",
    "\n",
    "# Import Backgrounds\n",
    "p16_stemfit_pred_background = file_import(r\"C:\\Users\\Brandon\\Desktop\\Work\\Lin_Lab\\MSC\\Data\\220126_Replicative_Senescence\\Data\\211111_stemfit_p16_prediction.xlsx\", [\"P2_Background\", \"P4_Background\", \"P6_Background\", \"P8_Background\", \"P10_Background\"])\n",
    "p16_stemfit_target_background = file_import(r\"C:\\Users\\Brandon\\Desktop\\Work\\Lin_Lab\\MSC\\Data\\220126_Replicative_Senescence\\Data\\211111_stemfit_p16_prediction.xlsx\", [\"P2_Background\", \"P4_Background\", \"P6_Background\", \"P8_Background\", \"P10_Background\"])\n",
    "\n",
    "# Standardize Data to Background and P2\n",
    "for pred, background in zip(p16_stemfit_pred, p16_stemfit_pred_background):\n",
    "    p16_stemfit_pred[pred].Mean = p16_stemfit_pred[pred].Mean - np.mean (p16_stemfit_pred_background[background].Mean)\n",
    "\n",
    "for target, background in zip(p16_stemfit_target, p16_stemfit_target_background):\n",
    "    p16_stemfit_target[target].Mean = p16_stemfit_target[target].Mean - np.mean (p16_stemfit_target_background[background].Mean)\n",
    "\n",
    "# Concatenate Data\n",
    "p16_stemfit_pred = pd.concat(p16_stemfit_pred, ignore_index=True)\n",
    "p16_stemfit_target = pd.concat(p16_stemfit_target, ignore_index=True)\n",
    "\n",
    "# Split Data\n",
    "p16_stemfit_pred_array = np.array_split(np.array(p16_stemfit_pred.Mean),15)\n",
    "p16_stemfit_target_array = np.array_split(np.array(p16_stemfit_target.Mean),15)\n",
    "\n",
    "# Pearson Correlation Coefficient\n",
    "p16_stemfit_pearsonr_values = []\n",
    "for pred, target in zip(p16_stemfit_pred_array, p16_stemfit_target_array):\n",
    "    p16_stemfit_pearsonr_values.append(pearsonr_1D(pred,target))\n",
    "        \n",
    "print(p16_stemfit_pearsonr_values)"
   ]
  },
  {
   "cell_type": "code",
   "execution_count": 56,
   "id": "b705c189",
   "metadata": {},
   "outputs": [
    {
     "name": "stdout",
     "output_type": "stream",
     "text": [
      "[0.9370771133450932, 0.5133685612755825, 0.9888830608097334, 0.9522371954296466, 0.9908178392959408, 0.9868535682026692, 0.9972431097388631, 0.9840246645648504, 0.930567593091931, 0.8654808258004371, 0.9623733527930167, 0.8225810778321085, 0.980738731501156, 0.9933758489123551, 0.9187381228636162]\n"
     ]
    }
   ],
   "source": [
    "# Import Data\n",
    "cd105_FBS_pred = file_import(r\"C:\\Users\\Brandon\\Desktop\\Work\\Lin_Lab\\MSC\\Data\\220126_Replicative_Senescence\\Data\\211111_FBS_cd105_prediction.xlsx\", [\"P2\", \"P4\", \"P6\", \"P8\", \"P10\"])\n",
    "cd105_FBS_target = file_import(r\"C:\\Users\\Brandon\\Desktop\\Work\\Lin_Lab\\MSC\\Data\\220126_Replicative_Senescence\\Data\\211111_FBS_cd105_target.xlsx\", [\"P2\", \"P4\", \"P6\", \"P8\", \"P10\"])\n",
    "\n",
    "# Import Backgrounds\n",
    "cd105_FBS_pred_background = file_import(r\"C:\\Users\\Brandon\\Desktop\\Work\\Lin_Lab\\MSC\\Data\\220126_Replicative_Senescence\\Data\\211111_FBS_cd105_prediction.xlsx\", [\"P2_Background\", \"P4_Background\", \"P6_Background\", \"P8_Background\", \"P10_Background\"])\n",
    "cd105_FBS_target_background = file_import(r\"C:\\Users\\Brandon\\Desktop\\Work\\Lin_Lab\\MSC\\Data\\220126_Replicative_Senescence\\Data\\211111_FBS_cd105_prediction.xlsx\", [\"P2_Background\", \"P4_Background\", \"P6_Background\", \"P8_Background\", \"P10_Background\"])\n",
    "\n",
    "# Standardize Data to Background and P2\n",
    "for pred, background in zip(cd105_FBS_pred, cd105_FBS_pred_background):\n",
    "    cd105_FBS_pred[pred].Mean = cd105_FBS_pred[pred].Mean - np.mean (cd105_FBS_pred_background[background].Mean)\n",
    "\n",
    "for target, background in zip(cd105_FBS_target, cd105_FBS_target_background):\n",
    "    cd105_FBS_target[target].Mean = cd105_FBS_target[target].Mean - np.mean (cd105_FBS_target_background[background].Mean)\n",
    "\n",
    "# Concatenate Data\n",
    "cd105_FBS_pred = pd.concat(cd105_FBS_pred, ignore_index=True)\n",
    "cd105_FBS_target = pd.concat(cd105_FBS_target, ignore_index=True)\n",
    "\n",
    "# Split Data\n",
    "cd105_FBS_pred_array = np.array_split(np.array(cd105_FBS_pred.Mean),15)\n",
    "cd105_FBS_target_array = np.array_split(np.array(cd105_FBS_target.Mean),15)\n",
    "\n",
    "# Pearson Correlation Coefficient\n",
    "cd105_FBS_pearsonr_values = []\n",
    "for pred, target in zip(cd105_FBS_pred_array, cd105_FBS_target_array):\n",
    "    cd105_FBS_pearsonr_values.append(pearsonr_1D(pred,target))\n",
    "    \n",
    "print(cd105_FBS_pearsonr_values)"
   ]
  },
  {
   "cell_type": "code",
   "execution_count": 57,
   "id": "b58a56ff",
   "metadata": {},
   "outputs": [
    {
     "name": "stdout",
     "output_type": "stream",
     "text": [
      "[0.7602870180822279, 0.9818341999877364, 0.7938492872313729, 0.9932350473555845, 0.9617511851966515, 0.9509238102397044, 0.9160886090429539, 0.9807024295865445, 0.9876500705019479, 0.986428037050419, 0.9698365817633178, 0.9951239194209077, 0.9905971993955413, 0.9601709418609998, 0.6192056081240843]\n"
     ]
    }
   ],
   "source": [
    "# Import Data\n",
    "cd105_stemfit_pred = file_import(r\"C:\\Users\\Brandon\\Desktop\\Work\\Lin_Lab\\MSC\\Data\\220126_Replicative_Senescence\\Data\\211111_stemfit_cd105_prediction.xlsx\", [\"P2\", \"P4\", \"P6\", \"P8\", \"P10\"])\n",
    "cd105_stemfit_target = file_import(r\"C:\\Users\\Brandon\\Desktop\\Work\\Lin_Lab\\MSC\\Data\\220126_Replicative_Senescence\\Data\\211111_stemfit_cd105_target.xlsx\", [\"P2\", \"P4\", \"P6\", \"P8\", \"P10\"])\n",
    "\n",
    "# Import Backgrounds\n",
    "cd105_stemfit_pred_background = file_import(r\"C:\\Users\\Brandon\\Desktop\\Work\\Lin_Lab\\MSC\\Data\\220126_Replicative_Senescence\\Data\\211111_stemfit_cd105_prediction.xlsx\", [\"P2_Background\", \"P4_Background\", \"P6_Background\", \"P8_Background\", \"P10_Background\"])\n",
    "cd105_stemfit_target_background = file_import(r\"C:\\Users\\Brandon\\Desktop\\Work\\Lin_Lab\\MSC\\Data\\220126_Replicative_Senescence\\Data\\211111_stemfit_cd105_prediction.xlsx\", [\"P2_Background\", \"P4_Background\", \"P6_Background\", \"P8_Background\", \"P10_Background\"])\n",
    "\n",
    "# Standardize Data to Background and P2\n",
    "for pred, background in zip(cd105_stemfit_pred, cd105_stemfit_pred_background):\n",
    "    cd105_stemfit_pred[pred].Mean = cd105_stemfit_pred[pred].Mean - np.mean (cd105_stemfit_pred_background[background].Mean)\n",
    "\n",
    "for target, background in zip(cd105_stemfit_target, cd105_stemfit_target_background):\n",
    "    cd105_stemfit_target[target].Mean = cd105_stemfit_target[target].Mean - np.mean (cd105_stemfit_target_background[background].Mean)\n",
    "\n",
    "# Concatenate Data\n",
    "cd105_stemfit_pred = pd.concat(cd105_stemfit_pred, ignore_index=True)\n",
    "cd105_stemfit_target = pd.concat(cd105_stemfit_target, ignore_index=True)\n",
    "\n",
    "# Split Data\n",
    "cd105_stemfit_pred_array = np.array_split(np.array(cd105_stemfit_pred.Mean),15)\n",
    "cd105_stemfit_target_array = np.array_split(np.array(cd105_stemfit_target.Mean),15)\n",
    "\n",
    "# Pearson Correlation Coefficient\n",
    "cd105_stemfit_pearsonr_values = []\n",
    "for pred, target in zip(cd105_stemfit_pred_array, cd105_stemfit_target_array):\n",
    "    cd105_stemfit_pearsonr_values.append(pearsonr_1D(pred,target))\n",
    "        \n",
    "print(cd105_stemfit_pearsonr_values)"
   ]
  },
  {
   "cell_type": "code",
   "execution_count": 58,
   "id": "dde28474",
   "metadata": {},
   "outputs": [
    {
     "name": "stdout",
     "output_type": "stream",
     "text": [
      "[0.8415435772076854, 0.9369587463894316, 0.225197714465104, 0.8067266800272602, 0.6725855603380132, 0.26418957681358435, 0.988269319110595, 0.9944572178224396, 0.9757548731732887, 0.9613029436991506, 0.9484319573514145, 0.7904188946274019, 0.9606122434663831, 0.9475041053654897, 0.8940897956716313]\n"
     ]
    }
   ],
   "source": [
    "# Import Data\n",
    "CCND2_FBS_pred = file_import(r\"C:\\Users\\Brandon\\Desktop\\Work\\Lin_Lab\\MSC\\Data\\220126_Replicative_Senescence\\Data\\220126_FBS_CCND2_prediction.xlsx\", [\"P2\", \"P4\", \"P6\", \"P8\", \"P10\"])\n",
    "CCND2_FBS_target = file_import(r\"C:\\Users\\Brandon\\Desktop\\Work\\Lin_Lab\\MSC\\Data\\220126_Replicative_Senescence\\Data\\220126_FBS_CCND2_target.xlsx\", [\"P2\", \"P4\", \"P6\", \"P8\", \"P10\"])\n",
    "\n",
    "# Import Backgrounds\n",
    "CCND2_FBS_pred_background = file_import(r\"C:\\Users\\Brandon\\Desktop\\Work\\Lin_Lab\\MSC\\Data\\220126_Replicative_Senescence\\Data\\220126_FBS_CCND2_prediction.xlsx\", [\"P2_Background\", \"P4_Background\", \"P6_Background\", \"P8_Background\", \"P10_Background\"])\n",
    "CCND2_FBS_target_background = file_import(r\"C:\\Users\\Brandon\\Desktop\\Work\\Lin_Lab\\MSC\\Data\\220126_Replicative_Senescence\\Data\\220126_FBS_CCND2_prediction.xlsx\", [\"P2_Background\", \"P4_Background\", \"P6_Background\", \"P8_Background\", \"P10_Background\"])\n",
    "\n",
    "# Standardize Data to Background and P2\n",
    "for pred, background in zip(CCND2_FBS_pred, CCND2_FBS_pred_background):\n",
    "    CCND2_FBS_pred[pred].Mean = CCND2_FBS_pred[pred].Mean - np.mean (CCND2_FBS_pred_background[background].Mean)\n",
    "\n",
    "for target, background in zip(CCND2_FBS_target, CCND2_FBS_target_background):\n",
    "    CCND2_FBS_target[target].Mean = CCND2_FBS_target[target].Mean - np.mean (CCND2_FBS_target_background[background].Mean)\n",
    "\n",
    "# Concatenate Data\n",
    "CCND2_FBS_pred = pd.concat(CCND2_FBS_pred, ignore_index=True)\n",
    "CCND2_FBS_target = pd.concat(CCND2_FBS_target, ignore_index=True)\n",
    "\n",
    "# Split Data\n",
    "CCND2_FBS_pred_array = np.array_split(np.array(CCND2_FBS_pred.Mean),15)\n",
    "CCND2_FBS_target_array = np.array_split(np.array(CCND2_FBS_target.Mean),15)\n",
    "\n",
    "# Pearson Correlation Coefficient\n",
    "CCND2_FBS_pearsonr_values = []\n",
    "for pred, target in zip(CCND2_FBS_pred_array, CCND2_FBS_target_array):\n",
    "    CCND2_FBS_pearsonr_values.append(pearsonr_1D(pred,target))\n",
    "    \n",
    "print(CCND2_FBS_pearsonr_values)"
   ]
  },
  {
   "cell_type": "code",
   "execution_count": 59,
   "id": "d9d7ce63",
   "metadata": {},
   "outputs": [
    {
     "name": "stdout",
     "output_type": "stream",
     "text": [
      "[0.9926551074775187, 0.9952801199758514, 0.920994419421456, 0.9972290764987681, 0.9939178164687439, 0.9058724749467253, 0.9939109873195282, 0.9887034435044788, 0.9582160594285927, 0.9992442457544538, 0.9889438766670019, 0.9158228170555155, -0.16212062755789222, 0.9019022634117004, 0.8952555935125922]\n"
     ]
    }
   ],
   "source": [
    "# Import Data\n",
    "CCND2_stemfit_pred = file_import(r\"C:\\Users\\Brandon\\Desktop\\Work\\Lin_Lab\\MSC\\Data\\220126_Replicative_Senescence\\Data\\220126_stemfit_CCND2_prediction.xlsx\", [\"P2\", \"P4\", \"P6\", \"P8\", \"P10\"])\n",
    "CCND2_stemfit_target = file_import(r\"C:\\Users\\Brandon\\Desktop\\Work\\Lin_Lab\\MSC\\Data\\220126_Replicative_Senescence\\Data\\220126_stemfit_CCND2_target.xlsx\", [\"P2\", \"P4\", \"P6\", \"P8\", \"P10\"])\n",
    "\n",
    "# Import Backgrounds\n",
    "CCND2_stemfit_pred_background = file_import(r\"C:\\Users\\Brandon\\Desktop\\Work\\Lin_Lab\\MSC\\Data\\220126_Replicative_Senescence\\Data\\220126_stemfit_CCND2_prediction.xlsx\", [\"P2_Background\", \"P4_Background\", \"P6_Background\", \"P8_Background\", \"P10_Background\"])\n",
    "CCND2_stemfit_target_background = file_import(r\"C:\\Users\\Brandon\\Desktop\\Work\\Lin_Lab\\MSC\\Data\\220126_Replicative_Senescence\\Data\\220126_stemfit_CCND2_prediction.xlsx\", [\"P2_Background\", \"P4_Background\", \"P6_Background\", \"P8_Background\", \"P10_Background\"])\n",
    "\n",
    "# Standardize Data to Background and P2\n",
    "for pred, background in zip(CCND2_stemfit_pred, CCND2_stemfit_pred_background):\n",
    "    CCND2_stemfit_pred[pred].Mean = CCND2_stemfit_pred[pred].Mean - np.mean (CCND2_stemfit_pred_background[background].Mean)\n",
    "\n",
    "for target, background in zip(CCND2_stemfit_target, CCND2_stemfit_target_background):\n",
    "    CCND2_stemfit_target[target].Mean = CCND2_stemfit_target[target].Mean - np.mean (CCND2_stemfit_target_background[background].Mean)\n",
    "\n",
    "# Concatenate Data\n",
    "CCND2_stemfit_pred = pd.concat(CCND2_stemfit_pred, ignore_index=True)\n",
    "CCND2_stemfit_target = pd.concat(CCND2_stemfit_target, ignore_index=True)\n",
    "\n",
    "# Split Data\n",
    "CCND2_stemfit_pred_array = np.array_split(np.array(CCND2_stemfit_pred.Mean),15)\n",
    "CCND2_stemfit_target_array = np.array_split(np.array(CCND2_stemfit_target.Mean),15)\n",
    "\n",
    "# Pearson Correlation Coefficient\n",
    "CCND2_stemfit_pearsonr_values = []\n",
    "for pred, target in zip(CCND2_stemfit_pred_array, CCND2_stemfit_target_array):\n",
    "    CCND2_stemfit_pearsonr_values.append(pearsonr_1D(pred,target))\n",
    "        \n",
    "print(CCND2_stemfit_pearsonr_values)"
   ]
  },
  {
   "cell_type": "code",
   "execution_count": 60,
   "id": "b545398b",
   "metadata": {},
   "outputs": [
    {
     "name": "stdout",
     "output_type": "stream",
     "text": [
      "[0.7489208195378609, 0.832850021626926, 0.882993286109637, 0.8643809899515734, 0.9569493679366157, 0.6967728214174532, 0.9013885206689648, 0.8955193047970674, 0.9809274640277369, 0.7306717708415175, 0.8055216280240713, 0.8075694546604928, 0.9002777301398946, 0.945934196110552, 0.8821287939159856]\n"
     ]
    }
   ],
   "source": [
    "# Import Data\n",
    "p38_FBS_pred = file_import(r\"C:\\Users\\Brandon\\Desktop\\Work\\Lin_Lab\\MSC\\Data\\220126_Replicative_Senescence\\Data\\220126_FBS_p38_prediction.xlsx\", [\"P2\", \"P4\", \"P6\", \"P8\", \"P10\"])\n",
    "p38_FBS_target = file_import(r\"C:\\Users\\Brandon\\Desktop\\Work\\Lin_Lab\\MSC\\Data\\220126_Replicative_Senescence\\Data\\220126_FBS_p38_target.xlsx\", [\"P2\", \"P4\", \"P6\", \"P8\", \"P10\"])\n",
    "\n",
    "# Import Backgrounds\n",
    "p38_FBS_pred_background = file_import(r\"C:\\Users\\Brandon\\Desktop\\Work\\Lin_Lab\\MSC\\Data\\220126_Replicative_Senescence\\Data\\220126_FBS_p38_prediction.xlsx\", [\"P2_Background\", \"P4_Background\", \"P6_Background\", \"P8_Background\", \"P10_Background\"])\n",
    "p38_FBS_target_background = file_import(r\"C:\\Users\\Brandon\\Desktop\\Work\\Lin_Lab\\MSC\\Data\\220126_Replicative_Senescence\\Data\\220126_FBS_p38_prediction.xlsx\", [\"P2_Background\", \"P4_Background\", \"P6_Background\", \"P8_Background\", \"P10_Background\"])\n",
    "\n",
    "# Standardize Data to Background and P2\n",
    "for pred, background in zip(p38_FBS_pred, p38_FBS_pred_background):\n",
    "    p38_FBS_pred[pred].Mean = p38_FBS_pred[pred].Mean - np.mean (p38_FBS_pred_background[background].Mean)\n",
    "\n",
    "for target, background in zip(p38_FBS_target, p38_FBS_target_background):\n",
    "    p38_FBS_target[target].Mean = p38_FBS_target[target].Mean - np.mean (p38_FBS_target_background[background].Mean)\n",
    "\n",
    "# Concatenate Data\n",
    "p38_FBS_pred = pd.concat(p38_FBS_pred, ignore_index=True)\n",
    "p38_FBS_target = pd.concat(p38_FBS_target, ignore_index=True)\n",
    "\n",
    "# Split Data\n",
    "p38_FBS_pred_array = np.array_split(np.array(p38_FBS_pred.Mean),15)\n",
    "p38_FBS_target_array = np.array_split(np.array(p38_FBS_target.Mean),15)\n",
    "\n",
    "# Pearson Correlation Coefficient\n",
    "p38_FBS_pearsonr_values = []\n",
    "for pred, target in zip(p38_FBS_pred_array, p38_FBS_target_array):\n",
    "    p38_FBS_pearsonr_values.append(pearsonr_1D(pred,target))\n",
    "    \n",
    "print(p38_FBS_pearsonr_values)"
   ]
  },
  {
   "cell_type": "code",
   "execution_count": 61,
   "id": "76ec70e5",
   "metadata": {},
   "outputs": [
    {
     "name": "stdout",
     "output_type": "stream",
     "text": [
      "[0.8866192746541169, 0.5284928640040284, 0.8761858622435151, 0.9401182561644107, 0.9739812146266089, 0.9737227647463715, 0.9720590832184974, 0.8533718864364099, 0.9589872322493437, 0.9069212734332986, 0.9621518362952838, 0.7321100248023444, 0.5539633147213303, 0.28567048973959996, 0.7301712507416521]\n"
     ]
    }
   ],
   "source": [
    "# Import Data\n",
    "p38_stemfit_pred = file_import(r\"C:\\Users\\Brandon\\Desktop\\Work\\Lin_Lab\\MSC\\Data\\220126_Replicative_Senescence\\Data\\220126_stemfit_p38_prediction.xlsx\", [\"P2\", \"P4\", \"P6\", \"P8\", \"P10\"])\n",
    "p38_stemfit_target = file_import(r\"C:\\Users\\Brandon\\Desktop\\Work\\Lin_Lab\\MSC\\Data\\220126_Replicative_Senescence\\Data\\220126_stemfit_p38_target.xlsx\", [\"P2\", \"P4\", \"P6\", \"P8\", \"P10\"])\n",
    "\n",
    "# Import Backgrounds\n",
    "p38_stemfit_pred_background = file_import(r\"C:\\Users\\Brandon\\Desktop\\Work\\Lin_Lab\\MSC\\Data\\220126_Replicative_Senescence\\Data\\220126_stemfit_p38_prediction.xlsx\", [\"P2_Background\", \"P4_Background\", \"P6_Background\", \"P8_Background\", \"P10_Background\"])\n",
    "p38_stemfit_target_background = file_import(r\"C:\\Users\\Brandon\\Desktop\\Work\\Lin_Lab\\MSC\\Data\\220126_Replicative_Senescence\\Data\\220126_stemfit_p38_prediction.xlsx\", [\"P2_Background\", \"P4_Background\", \"P6_Background\", \"P8_Background\", \"P10_Background\"])\n",
    "\n",
    "# Standardize Data to Background and P2\n",
    "for pred, background in zip(p38_stemfit_pred, p38_stemfit_pred_background):\n",
    "    p38_stemfit_pred[pred].Mean = p38_stemfit_pred[pred].Mean - np.mean (p38_stemfit_pred_background[background].Mean)\n",
    "\n",
    "for target, background in zip(p38_stemfit_target, p38_stemfit_target_background):\n",
    "    p38_stemfit_target[target].Mean = p38_stemfit_target[target].Mean - np.mean (p38_stemfit_target_background[background].Mean)\n",
    "\n",
    "# Concatenate Data\n",
    "p38_stemfit_pred = pd.concat(p38_stemfit_pred, ignore_index=True)\n",
    "p38_stemfit_target = pd.concat(p38_stemfit_target, ignore_index=True)\n",
    "\n",
    "# Split Data\n",
    "p38_stemfit_pred_array = np.array_split(np.array(p38_stemfit_pred.Mean),15)\n",
    "p38_stemfit_target_array = np.array_split(np.array(p38_stemfit_target.Mean),15)\n",
    "\n",
    "# Pearson Correlation Coefficient\n",
    "p38_stemfit_pearsonr_values = []\n",
    "for pred, target in zip(p38_stemfit_pred_array, p38_stemfit_target_array):\n",
    "    p38_stemfit_pearsonr_values.append(pearsonr_1D(pred,target))\n",
    "        \n",
    "print(p38_stemfit_pearsonr_values)"
   ]
  },
  {
   "cell_type": "code",
   "execution_count": 62,
   "id": "79bdd558",
   "metadata": {},
   "outputs": [
    {
     "name": "stdout",
     "output_type": "stream",
     "text": [
      "[0.9625257683786789, 0.9776746183631064, 0.8023463604690808, 0.9654831286044714, 0.9162649657414456, 0.9277554187223758, 0.9916620813566843, 0.9593393218729576, 0.8684219740774363, 0.9697189137177482, 0.9898954535359966, 0.9356406345098521, 0.9315255869746105, 0.8761836704618086, 0.897281437383961]\n"
     ]
    }
   ],
   "source": [
    "# Import Data\n",
    "SABG_FBS_pred = file_import(r\"C:\\Users\\Brandon\\Desktop\\Work\\Lin_Lab\\MSC\\Data\\220126_Replicative_Senescence\\Data\\220209_FBS_SABG_prediction.xlsx\", [\"P2\", \"P4\", \"P6\", \"P8\", \"P10\"])\n",
    "SABG_FBS_target = file_import(r\"C:\\Users\\Brandon\\Desktop\\Work\\Lin_Lab\\MSC\\Data\\220126_Replicative_Senescence\\Data\\220209_FBS_SABG_target.xlsx\", [\"P2\", \"P4\", \"P6\", \"P8\", \"P10\"])\n",
    "\n",
    "# Import Backgrounds\n",
    "SABG_FBS_pred_background = file_import(r\"C:\\Users\\Brandon\\Desktop\\Work\\Lin_Lab\\MSC\\Data\\220126_Replicative_Senescence\\Data\\220209_FBS_SABG_prediction.xlsx\", [\"P2_Background\", \"P4_Background\", \"P6_Background\", \"P8_Background\", \"P10_Background\"])\n",
    "SABG_FBS_target_background = file_import(r\"C:\\Users\\Brandon\\Desktop\\Work\\Lin_Lab\\MSC\\Data\\220126_Replicative_Senescence\\Data\\220209_FBS_SABG_prediction.xlsx\", [\"P2_Background\", \"P4_Background\", \"P6_Background\", \"P8_Background\", \"P10_Background\"])\n",
    "\n",
    "# Standardize Data to Background and P2\n",
    "for pred, background in zip(SABG_FBS_pred, SABG_FBS_pred_background):\n",
    "    SABG_FBS_pred[pred].Mean = SABG_FBS_pred[pred].Mean - np.mean (SABG_FBS_pred_background[background].Mean)\n",
    "\n",
    "for target, background in zip(SABG_FBS_target, SABG_FBS_target_background):\n",
    "    SABG_FBS_target[target].Mean = SABG_FBS_target[target].Mean - np.mean (SABG_FBS_target_background[background].Mean)\n",
    "\n",
    "# Concatenate Data\n",
    "SABG_FBS_pred = pd.concat(SABG_FBS_pred, ignore_index=True)\n",
    "SABG_FBS_target = pd.concat(SABG_FBS_target, ignore_index=True)\n",
    "\n",
    "# Split Data\n",
    "SABG_FBS_pred_array = np.array_split(np.array(SABG_FBS_pred.Mean),15)\n",
    "SABG_FBS_target_array = np.array_split(np.array(SABG_FBS_target.Mean),15)\n",
    "\n",
    "# Pearson Correlation Coefficient\n",
    "SABG_FBS_pearsonr_values = []\n",
    "for pred, target in zip(SABG_FBS_pred_array, SABG_FBS_target_array):\n",
    "    SABG_FBS_pearsonr_values.append(pearsonr_1D(pred,target))\n",
    "    \n",
    "print(SABG_FBS_pearsonr_values)"
   ]
  },
  {
   "cell_type": "code",
   "execution_count": 63,
   "id": "ba61cf61",
   "metadata": {},
   "outputs": [
    {
     "name": "stdout",
     "output_type": "stream",
     "text": [
      "[0.8535246886645502, 0.9671499692000729, 0.6159323519565134, 0.9891398128406894, 0.9647885179298681, 0.8928135612979711, 0.9295604436458926, 0.9460927817945546, 0.8395845875237073, 0.8283712300701541, 0.6547340084045247, 0.821754005182554, 0.8138610653456857, 0.4714768138877014, 0.9721788866039062]\n"
     ]
    }
   ],
   "source": [
    "# Import Data\n",
    "SABG_stemfit_pred = file_import(r\"C:\\Users\\Brandon\\Desktop\\Work\\Lin_Lab\\MSC\\Data\\220126_Replicative_Senescence\\Data\\220209_stemfit_SABG_prediction.xlsx\", [\"P2\", \"P4\", \"P6\", \"P8\", \"P10\"])\n",
    "SABG_stemfit_target = file_import(r\"C:\\Users\\Brandon\\Desktop\\Work\\Lin_Lab\\MSC\\Data\\220126_Replicative_Senescence\\Data\\220209_stemfit_SABG_target.xlsx\", [\"P2\", \"P4\", \"P6\", \"P8\", \"P10\"])\n",
    "\n",
    "# Import Backgrounds\n",
    "SABG_stemfit_pred_background = file_import(r\"C:\\Users\\Brandon\\Desktop\\Work\\Lin_Lab\\MSC\\Data\\220126_Replicative_Senescence\\Data\\220209_stemfit_SABG_prediction.xlsx\", [\"P2_Background\", \"P4_Background\", \"P6_Background\", \"P8_Background\", \"P10_Background\"])\n",
    "SABG_stemfit_target_background = file_import(r\"C:\\Users\\Brandon\\Desktop\\Work\\Lin_Lab\\MSC\\Data\\220126_Replicative_Senescence\\Data\\220209_stemfit_SABG_prediction.xlsx\", [\"P2_Background\", \"P4_Background\", \"P6_Background\", \"P8_Background\", \"P10_Background\"])\n",
    "\n",
    "# Standardize Data to Background and P2\n",
    "for pred, background in zip(SABG_stemfit_pred, SABG_stemfit_pred_background):\n",
    "    SABG_stemfit_pred[pred].Mean = SABG_stemfit_pred[pred].Mean - np.mean (SABG_stemfit_pred_background[background].Mean)\n",
    "\n",
    "for target, background in zip(SABG_stemfit_target, SABG_stemfit_target_background):\n",
    "    SABG_stemfit_target[target].Mean = SABG_stemfit_target[target].Mean - np.mean (SABG_stemfit_target_background[background].Mean)\n",
    "\n",
    "# Concatenate Data\n",
    "SABG_stemfit_pred = pd.concat(SABG_stemfit_pred, ignore_index=True)\n",
    "SABG_stemfit_target = pd.concat(SABG_stemfit_target, ignore_index=True)\n",
    "\n",
    "# Split Data\n",
    "SABG_stemfit_pred_array = np.array_split(np.array(SABG_stemfit_pred.Mean),15)\n",
    "SABG_stemfit_target_array = np.array_split(np.array(SABG_stemfit_target.Mean),15)\n",
    "\n",
    "# Pearson Correlation Coefficient\n",
    "SABG_stemfit_pearsonr_values = []\n",
    "for pred, target in zip(SABG_stemfit_pred_array, SABG_stemfit_target_array):\n",
    "    SABG_stemfit_pearsonr_values.append(pearsonr_1D(pred,target))\n",
    "        \n",
    "print(SABG_stemfit_pearsonr_values)"
   ]
  },
  {
   "cell_type": "code",
   "execution_count": 64,
   "id": "b1df2d75",
   "metadata": {},
   "outputs": [
    {
     "data": {
      "image/png": "[encoded data removed]",
      "text/plain": [
       "<Figure size 2880x720 with 1 Axes>"
      ]
     },
     "metadata": {
      "needs_background": "light"
     },
     "output_type": "display_data"
    }
   ],
   "source": [
    "fig, ax = plt.subplots(figsize = [40,10])\n",
    "\n",
    "plt.ylim (0, 1)\n",
    "ax.spines[\"top\"].set_linewidth(5)\n",
    "ax.spines[\"left\"].set_linewidth(5)\n",
    "ax.spines[\"right\"].set_linewidth(5)\n",
    "ax.spines[\"bottom\"].set_linewidth(5)\n",
    "\n",
    "color1 = '#4FA7FF'\n",
    "color2 = '#BF1D00'\n",
    "\n",
    "def set_box_color (bp):\n",
    "    plt.setp (bp['boxes'][0], color = 'black', facecolor = color1)\n",
    "    plt.setp (bp['whiskers'][0], color = 'black')\n",
    "    plt.setp (bp['whiskers'][1], color = 'black')\n",
    "    plt.setp (bp['caps'][0], color = 'black')\n",
    "    plt.setp (bp['caps'][1], color = 'black')\n",
    "    plt.setp (bp['medians'][0], color = 'black')\n",
    "    plt.setp (bp['medians'][0], color = 'black')\n",
    "    \n",
    "    plt.setp (bp['boxes'][1], color = 'black', facecolor = color2)\n",
    "    plt.setp (bp['whiskers'][2], color = 'black')\n",
    "    plt.setp (bp['whiskers'][3], color = 'black')\n",
    "    plt.setp (bp['caps'][2], color = 'black')\n",
    "    plt.setp (bp['caps'][3], color = 'black')\n",
    "    plt.setp (bp['medians'][1], color = 'black')\n",
    "    plt.setp (bp['medians'][1], color = 'black')\n",
    "\n",
    "# Rectangular Box Plot with Data\n",
    "boxprops = dict(linestyle='-', linewidth=5)\n",
    "medianprops = dict(linestyle='-', linewidth=5)\n",
    "meanprops = dict(linestyle='-', linewidth=5)\n",
    "whiskerproprs = dict(linestyle='-', linewidth=5)\n",
    "\n",
    "p16_bplot = ax.boxplot ([p16_FBS_pearsonr_values, p16_stemfit_pearsonr_values], boxprops = boxprops, medianprops=medianprops, meanprops = meanprops, vert = True, patch_artist = True, positions = [1,2],  widths = 0.8, showfliers=False, flierprops = {'marker': 'x'})\n",
    "set_box_color (p16_bplot)\n",
    "\n",
    "for whisker in p16_bplot['whiskers']: \n",
    "    whisker.set(linewidth = 5)\n",
    "\n",
    "for caps in p16_bplot['caps']:\n",
    "    caps.set(linewidth = 5)\n",
    "\n",
    "SABG_bplot = ax.boxplot ([SABG_FBS_pearsonr_values, SABG_stemfit_pearsonr_values], boxprops = boxprops, medianprops=medianprops, meanprops = meanprops, vert = True, patch_artist = True, positions = [4,5],  widths = 0.8, showfliers=False, flierprops = {'marker': 'x'})\n",
    "set_box_color (SABG_bplot)\n",
    "\n",
    "for whisker in SABG_bplot['whiskers']: \n",
    "    whisker.set(linewidth = 5)\n",
    "\n",
    "for caps in SABG_bplot['caps']:\n",
    "    caps.set(linewidth = 5)\n",
    "\n",
    "p38_bplot = ax.boxplot ([p38_FBS_pearsonr_values, p38_stemfit_pearsonr_values], boxprops = boxprops, medianprops=medianprops, meanprops = meanprops, vert = True, patch_artist = True, positions = [7,8],  widths = 0.8, showfliers=False, flierprops = {'marker': 'x'})\n",
    "set_box_color (p38_bplot)\n",
    "\n",
    "for whisker in p38_bplot['whiskers']: \n",
    "    whisker.set(linewidth = 5)\n",
    "\n",
    "for caps in p38_bplot['caps']:\n",
    "    caps.set(linewidth = 5)\n",
    "\n",
    "\n",
    "cd105_bplot = ax.boxplot ([cd105_FBS_pearsonr_values, cd105_stemfit_pearsonr_values], boxprops = boxprops, medianprops=medianprops, meanprops = meanprops, vert = True, patch_artist = True, positions = [10,11],  widths = 0.8, showfliers=False, flierprops = {'marker': 'x'})\n",
    "set_box_color (cd105_bplot)\n",
    "\n",
    "for whisker in cd105_bplot['whiskers']: \n",
    "    whisker.set(linewidth = 5)\n",
    "\n",
    "for caps in cd105_bplot['caps']:\n",
    "    caps.set(linewidth = 5)\n",
    "\n",
    "CCND2_bplot = ax.boxplot ([CCND2_FBS_pearsonr_values, CCND2_stemfit_pearsonr_values], boxprops = boxprops, medianprops=medianprops, meanprops = meanprops, vert = True, patch_artist = True, positions = [13,14],  widths = 0.8, showfliers=False, flierprops = {'marker': 'x'})\n",
    "set_box_color (CCND2_bplot)\n",
    "\n",
    "for whisker in CCND2_bplot['whiskers']: \n",
    "    whisker.set(linewidth = 5)\n",
    "\n",
    "for caps in CCND2_bplot['caps']:\n",
    "    caps.set(linewidth = 5)\n",
    "\n",
    "# Organize Plot\n",
    "plt.xlim (0, 15)\n",
    "ax.set_xticks([1.5, 4.5, 7.5, 10.5, 13.5])\n",
    "ax.set_xticklabels (['p16', 'SABG', 'CD105', 'CCND2', 'p38'])\n",
    "\n",
    "# plt.title (\"Single Cell Pearson Correlation Coefficient\")\n",
    "plt.ylabel (\"r\")\n",
    "\n",
    "# plt.plot([], c = color1, label = 'FBS')\n",
    "# plt.plot([], c = color2, label = 'Stemfit')\n",
    "# plt.legend()\n",
    "\n",
    "DMEM_label = mpatches.Patch(facecolor=color1, edgecolor = 'black', linewidth = 5, label = \"                     \")\n",
    "Stemfit_label = mpatches.Patch(facecolor=color2, edgecolor = 'black', linewidth = 5, label = \"                       \")\n",
    "plt.legend(handles=[DMEM_label, Stemfit_label], frameon=False, fontsize = 70, borderpad = 0, labelspacing = 0, handlelength = 2, ncol=2)\n",
    "\n",
    "\n",
    "ax.axes.xaxis.set_visible(False)\n",
    "ax.axes.yaxis.set_visible(False)\n",
    "\n",
    "plt.tight_layout()\n",
    "plt.savefig(\"MSC_Senescence_Pearson.png\")"
   ]
  },
  {
   "cell_type": "code",
   "execution_count": 65,
   "id": "4643b54f",
   "metadata": {},
   "outputs": [
    {
     "name": "stdout",
     "output_type": "stream",
     "text": [
      "0.7977014907344769\n"
     ]
    }
   ],
   "source": [
    "total_pearsonr_values = p16_FBS_pearsonr_values\n",
    "total_pearsonr_values += p16_stemfit_pearsonr_values\n",
    "total_pearsonr_values += SABG_FBS_pearsonr_values\n",
    "total_pearsonr_values += SABG_stemfit_pearsonr_values\n",
    "total_pearsonr_values += cd105_FBS_pearsonr_values\n",
    "total_pearsonr_values += cd105_stemfit_pearsonr_values\n",
    "total_pearsonr_values += CCND2_FBS_pearsonr_values\n",
    "total_pearsonr_values += CCND2_stemfit_pearsonr_values\n",
    "total_pearsonr_values += p38_FBS_pearsonr_values\n",
    "total_pearsonr_values += p38_stemfit_pearsonr_values\n",
    "print (np.mean(total_pearsonr_values))"
   ]
  }
 ],
 "metadata": {
  "kernelspec": {
   "display_name": "Python 3 (ipykernel)",
   "language": "python",
   "name": "python3"
  },
  "language_info": {
   "codemirror_mode": {
    "name": "ipython",
    "version": 3
   },
   "file_extension": ".py",
   "mimetype": "text/x-python",
   "name": "python",
   "nbconvert_exporter": "python",
   "pygments_lexer": "ipython3",
   "version": "3.9.12"
  }
 },
 "nbformat": 4,
 "nbformat_minor": 5
}
