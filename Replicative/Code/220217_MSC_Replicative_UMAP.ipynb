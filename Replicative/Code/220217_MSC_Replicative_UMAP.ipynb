{
 "cells": [
  {
   "cell_type": "code",
   "execution_count": 67,
   "id": "3af729b6",
   "metadata": {},
   "outputs": [],
   "source": [
    "import numpy as np\n",
    "from sklearn.datasets import load_digits\n",
    "from sklearn.preprocessing import StandardScaler\n",
    "from sklearn.model_selection import train_test_split\n",
    "from sklearn.preprocessing import StandardScaler\n",
    "from sklearn.discriminant_analysis import LinearDiscriminantAnalysis as LDA\n",
    "from sklearn.decomposition import PCA\n",
    "from bioinfokit.analys import get_data\n",
    "from bioinfokit.visuz import cluster\n",
    "import matplotlib.pyplot as plt\n",
    "from matplotlib.pyplot import figure\n",
    "import seaborn as sns\n",
    "import pandas as pd\n",
    "import time\n",
    "import matplotlib.patches as mpatches\n",
    "\n",
    "%matplotlib inline"
   ]
  },
  {
   "cell_type": "code",
   "execution_count": 68,
   "id": "0f2e8e97",
   "metadata": {},
   "outputs": [],
   "source": [
    "sns.set(style='white', context='notebook', rc={'figure.figsize':(14,10)})\n",
    "\n",
    "font = {'family' : 'sans-serif',\n",
    "        'weight' : 'normal',\n",
    "        'size'   : 80}\n",
    "plt.rc('font', **font)\n",
    "\n",
    "sns.set(font_scale=2)"
   ]
  },
  {
   "cell_type": "code",
   "execution_count": 69,
   "id": "437434b5",
   "metadata": {
    "scrolled": true
   },
   "outputs": [
    {
     "data": {
      "text/html": [
       "<div>\n",
       "<style scoped>\n",
       "    .dataframe tbody tr th:only-of-type {\n",
       "        vertical-align: middle;\n",
       "    }\n",
       "\n",
       "    .dataframe tbody tr th {\n",
       "        vertical-align: top;\n",
       "    }\n",
       "\n",
       "    .dataframe thead th {\n",
       "        text-align: right;\n",
       "    }\n",
       "</style>\n",
       "<table border=\"1\" class=\"dataframe\">\n",
       "  <thead>\n",
       "    <tr style=\"text-align: right;\">\n",
       "      <th></th>\n",
       "      <th>Culture</th>\n",
       "      <th>CD105</th>\n",
       "      <th>CCND2</th>\n",
       "      <th>p16</th>\n",
       "      <th>p21</th>\n",
       "      <th>p38</th>\n",
       "      <th>SABG</th>\n",
       "    </tr>\n",
       "  </thead>\n",
       "  <tbody>\n",
       "    <tr>\n",
       "      <th>0</th>\n",
       "      <td>P10_Stemfit</td>\n",
       "      <td>28.329</td>\n",
       "      <td>48.989</td>\n",
       "      <td>10.713</td>\n",
       "      <td>8.396</td>\n",
       "      <td>17.252</td>\n",
       "      <td>58.717</td>\n",
       "    </tr>\n",
       "    <tr>\n",
       "      <th>1</th>\n",
       "      <td>P10_Stemfit</td>\n",
       "      <td>28.892</td>\n",
       "      <td>49.458</td>\n",
       "      <td>11.468</td>\n",
       "      <td>8.866</td>\n",
       "      <td>18.277</td>\n",
       "      <td>58.754</td>\n",
       "    </tr>\n",
       "    <tr>\n",
       "      <th>2</th>\n",
       "      <td>P10_Stemfit</td>\n",
       "      <td>28.681</td>\n",
       "      <td>49.433</td>\n",
       "      <td>11.709</td>\n",
       "      <td>8.776</td>\n",
       "      <td>18.879</td>\n",
       "      <td>58.554</td>\n",
       "    </tr>\n",
       "    <tr>\n",
       "      <th>3</th>\n",
       "      <td>P10_Stemfit</td>\n",
       "      <td>27.590</td>\n",
       "      <td>49.180</td>\n",
       "      <td>9.873</td>\n",
       "      <td>7.862</td>\n",
       "      <td>17.505</td>\n",
       "      <td>57.513</td>\n",
       "    </tr>\n",
       "    <tr>\n",
       "      <th>4</th>\n",
       "      <td>P10_Stemfit</td>\n",
       "      <td>28.822</td>\n",
       "      <td>49.429</td>\n",
       "      <td>10.100</td>\n",
       "      <td>8.602</td>\n",
       "      <td>17.834</td>\n",
       "      <td>59.797</td>\n",
       "    </tr>\n",
       "  </tbody>\n",
       "</table>\n",
       "</div>"
      ],
      "text/plain": [
       "       Culture   CD105   CCND2     p16    p21     p38    SABG\n",
       "0  P10_Stemfit  28.329  48.989  10.713  8.396  17.252  58.717\n",
       "1  P10_Stemfit  28.892  49.458  11.468  8.866  18.277  58.754\n",
       "2  P10_Stemfit  28.681  49.433  11.709  8.776  18.879  58.554\n",
       "3  P10_Stemfit  27.590  49.180   9.873  7.862  17.505  57.513\n",
       "4  P10_Stemfit  28.822  49.429  10.100  8.602  17.834  59.797"
      ]
     },
     "execution_count": 69,
     "metadata": {},
     "output_type": "execute_result"
    }
   ],
   "source": [
    "# Import Data\n",
    "P2_FBS = pd.read_csv(r\"C:\\Users\\Brandon\\Desktop\\Work\\Lin_Lab\\MSC\\Data\\220217_MSC_UMAP\\Results_p2_FBS.csv\")\n",
    "P10_FBS = pd.read_csv(r\"C:\\Users\\Brandon\\Desktop\\Work\\Lin_Lab\\MSC\\Data\\220217_MSC_UMAP\\Results_p10_FBS.csv\")\n",
    "P2_stemfit = pd.read_csv(r\"C:\\Users\\Brandon\\Desktop\\Work\\Lin_Lab\\MSC\\Data\\220217_MSC_UMAP\\Results_p2_Stemfit.csv\")\n",
    "P10_stemfit = pd.read_csv(r\"C:\\Users\\Brandon\\Desktop\\Work\\Lin_Lab\\MSC\\Data\\220217_MSC_UMAP\\Results_p10_Stemfit.csv\")\n",
    "\n",
    "P2_FBS.head()\n",
    "P10_FBS.head()\n",
    "P2_stemfit.head()\n",
    "P10_stemfit.head()"
   ]
  },
  {
   "cell_type": "code",
   "execution_count": 70,
   "id": "fd86a7e3",
   "metadata": {
    "scrolled": false
   },
   "outputs": [
    {
     "data": {
      "text/html": [
       "<div>\n",
       "<style scoped>\n",
       "    .dataframe tbody tr th:only-of-type {\n",
       "        vertical-align: middle;\n",
       "    }\n",
       "\n",
       "    .dataframe tbody tr th {\n",
       "        vertical-align: top;\n",
       "    }\n",
       "\n",
       "    .dataframe thead th {\n",
       "        text-align: right;\n",
       "    }\n",
       "</style>\n",
       "<table border=\"1\" class=\"dataframe\">\n",
       "  <thead>\n",
       "    <tr style=\"text-align: right;\">\n",
       "      <th></th>\n",
       "      <th>Culture</th>\n",
       "      <th>CD105</th>\n",
       "      <th>CCND2</th>\n",
       "      <th>p16</th>\n",
       "      <th>p21</th>\n",
       "      <th>p38</th>\n",
       "      <th>SABG</th>\n",
       "    </tr>\n",
       "  </thead>\n",
       "  <tbody>\n",
       "    <tr>\n",
       "      <th>0</th>\n",
       "      <td>P2_FBS</td>\n",
       "      <td>25.475</td>\n",
       "      <td>45.585</td>\n",
       "      <td>7.542</td>\n",
       "      <td>8.465</td>\n",
       "      <td>16.667</td>\n",
       "      <td>60.995</td>\n",
       "    </tr>\n",
       "    <tr>\n",
       "      <th>1</th>\n",
       "      <td>P2_FBS</td>\n",
       "      <td>25.070</td>\n",
       "      <td>44.558</td>\n",
       "      <td>7.610</td>\n",
       "      <td>8.971</td>\n",
       "      <td>16.971</td>\n",
       "      <td>58.323</td>\n",
       "    </tr>\n",
       "    <tr>\n",
       "      <th>2</th>\n",
       "      <td>P2_FBS</td>\n",
       "      <td>25.991</td>\n",
       "      <td>45.228</td>\n",
       "      <td>8.310</td>\n",
       "      <td>9.261</td>\n",
       "      <td>17.119</td>\n",
       "      <td>60.518</td>\n",
       "    </tr>\n",
       "    <tr>\n",
       "      <th>3</th>\n",
       "      <td>P2_FBS</td>\n",
       "      <td>27.297</td>\n",
       "      <td>45.600</td>\n",
       "      <td>7.617</td>\n",
       "      <td>8.572</td>\n",
       "      <td>16.746</td>\n",
       "      <td>61.552</td>\n",
       "    </tr>\n",
       "    <tr>\n",
       "      <th>4</th>\n",
       "      <td>P2_FBS</td>\n",
       "      <td>25.937</td>\n",
       "      <td>45.209</td>\n",
       "      <td>7.426</td>\n",
       "      <td>8.820</td>\n",
       "      <td>17.198</td>\n",
       "      <td>60.514</td>\n",
       "    </tr>\n",
       "  </tbody>\n",
       "</table>\n",
       "</div>"
      ],
      "text/plain": [
       "  Culture   CD105   CCND2    p16    p21     p38    SABG\n",
       "0  P2_FBS  25.475  45.585  7.542  8.465  16.667  60.995\n",
       "1  P2_FBS  25.070  44.558  7.610  8.971  16.971  58.323\n",
       "2  P2_FBS  25.991  45.228  8.310  9.261  17.119  60.518\n",
       "3  P2_FBS  27.297  45.600  7.617  8.572  16.746  61.552\n",
       "4  P2_FBS  25.937  45.209  7.426  8.820  17.198  60.514"
      ]
     },
     "execution_count": 70,
     "metadata": {},
     "output_type": "execute_result"
    }
   ],
   "source": [
    "# Concatenate Data\n",
    "culture_data = pd.concat([P2_FBS, P10_FBS, P2_stemfit, P10_stemfit], ignore_index=True)\n",
    "culture_data.head()\n",
    "\n",
    "# with pd.option_context('display.max_rows', None, 'display.max_columns', None):  # more options can be specified also\n",
    "#     print(data)"
   ]
  },
  {
   "cell_type": "code",
   "execution_count": null,
   "id": "1c4e585e",
   "metadata": {
    "scrolled": true
   },
   "outputs": [],
   "source": [
    "palette = {\"P2_FBS\":\"#4FA7FF\",\n",
    "           \"P10_FBS\":\"#0C0FBA\", \n",
    "           \"P2_Stemfit\":\"#EA940F\",\n",
    "           \"P10_Stemfit\":\"#BF1D00\"}\n",
    "\n",
    "sns.set_style(\"white\")\n",
    "sns.set_style(\"ticks\")\n",
    "\n",
    "g = sns.pairplot(culture_data, hue='Culture', palette=palette)\n",
    "\n",
    "g._legend.remove()"
   ]
  },
  {
   "cell_type": "code",
   "execution_count": null,
   "id": "971304e7",
   "metadata": {
    "scrolled": true
   },
   "outputs": [],
   "source": [
    "import umap"
   ]
  },
  {
   "cell_type": "code",
   "execution_count": null,
   "id": "41d19541",
   "metadata": {},
   "outputs": [],
   "source": [
    "reducer = umap.UMAP()"
   ]
  },
  {
   "cell_type": "code",
   "execution_count": null,
   "id": "331aee1a",
   "metadata": {},
   "outputs": [],
   "source": [
    "marker_data = culture_data[[\"CD105\", \"CCND2\", \"p16\", \"p21\", \"p38\", \"SABG\"]].values\n",
    "embedding = reducer.fit_transform(marker_data)\n",
    "embedding.shape"
   ]
  },
  {
   "cell_type": "code",
   "execution_count": null,
   "id": "d3fbe6eb",
   "metadata": {
    "scrolled": true
   },
   "outputs": [],
   "source": [
    "fig, ax = plt.subplots(figsize = [20,10])\n",
    "\n",
    "ax.spines[\"top\"].set_linewidth(5)\n",
    "ax.spines[\"left\"].set_linewidth(5)\n",
    "ax.spines[\"right\"].set_linewidth(5)\n",
    "ax.spines[\"bottom\"].set_linewidth(5)\n",
    "\n",
    "plt.scatter(embedding[:, 0], embedding[:, 1], c=[palette[x] for x in culture_data.Culture], s=1000)\n",
    "\n",
    "# plt.xlabel(\"UMAP 1\")\n",
    "# plt.ylabel(\"UMAP 2\")\n",
    "plt.gca().set_aspect('equal', 'datalim')\n",
    "\n",
    "DMEM_p2_label = mpatches.Patch(facecolor=\"#4FA7FF\", edgecolor = 'black', linewidth = 5, label = \"           \")\n",
    "DMEM_p10_label = mpatches.Patch(facecolor=\"#0C0FBA\", edgecolor = 'black', linewidth = 5, label = \"           \")\n",
    "Stemfit_p2_label = mpatches.Patch(facecolor=\"#EA940F\", edgecolor = 'black', linewidth = 5, label = \"             \")\n",
    "Stemfit_p10_label = mpatches.Patch(facecolor=\"#BF1D00\", edgecolor = 'black', linewidth = 5, label = \"             \")\n",
    "plt.legend(handles=[DMEM_p2_label, DMEM_p10_label, Stemfit_p2_label, Stemfit_p10_label], frameon=False, fontsize = 70, borderpad = 0, labelspacing = 0, handlelength = 2, ncol=2)\n",
    "\n",
    "ax.axes.xaxis.set_visible(False)\n",
    "ax.axes.yaxis.set_visible(False)\n",
    "\n",
    "plt.tight_layout()\n",
    "plt.savefig(fname=\"MSC_replicative_UMAP\")"
   ]
  },
  {
   "cell_type": "code",
   "execution_count": null,
   "id": "56b33edd",
   "metadata": {},
   "outputs": [],
   "source": [
    "marker_LDA = LDA(n_components=3).fit_transform(marker_data,culture_data.Culture)"
   ]
  },
  {
   "cell_type": "code",
   "execution_count": null,
   "id": "e1026f93",
   "metadata": {},
   "outputs": [],
   "source": [
    "plt.scatter(marker_LDA[:,0], marker_LDA[:, 1], c=[palette[x] for x in culture_data.Culture])\n",
    "\n",
    "plt.xlabel(\"LDA 1\")\n",
    "plt.ylabel(\"LDA 2\")\n",
    "plt.gca().set_aspect('equal', 'datalim')"
   ]
  },
  {
   "cell_type": "code",
   "execution_count": null,
   "id": "239d36e7",
   "metadata": {},
   "outputs": [],
   "source": [
    "marker_PCA = PCA().fit(marker_data)"
   ]
  },
  {
   "cell_type": "code",
   "execution_count": null,
   "id": "4a473498",
   "metadata": {},
   "outputs": [],
   "source": [
    "target = culture_data.Culture.to_numpy()\n",
    "\n",
    "loadings = marker_PCA.components_\n",
    "marker_PCA.explained_variance_\n",
    "\n",
    "pca_scores = PCA().fit_transform(marker_data)\n",
    "\n",
    "cluster.biplot(cscore=pca_scores, loadings=loadings, labels=culture_data.Culture, var1=round(marker_PCA.explained_variance_ratio_[0]*100, 2), var2=round(marker_PCA.explained_variance_ratio_[1]*100, 2))"
   ]
  }
 ],
 "metadata": {
  "kernelspec": {
   "display_name": "Python 3 (ipykernel)",
   "language": "python",
   "name": "python3"
  },
  "language_info": {
   "codemirror_mode": {
    "name": "ipython",
    "version": 3
   },
   "file_extension": ".py",
   "mimetype": "text/x-python",
   "name": "python",
   "nbconvert_exporter": "python",
   "pygments_lexer": "ipython3",
   "version": "3.9.12"
  }
 },
 "nbformat": 4,
 "nbformat_minor": 5
}
